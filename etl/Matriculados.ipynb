{
 "cells": [
  {
   "cell_type": "code",
   "execution_count": 1,
   "id": "cb090eda",
   "metadata": {},
   "outputs": [],
   "source": [
    "## Agregate information from Matriculados\n",
    "\n",
    "## Look up in copy trans the matriculados and if exists then insert it"
   ]
  },
  {
   "cell_type": "code",
   "execution_count": null,
   "id": "5b9812b9",
   "metadata": {},
   "outputs": [],
   "source": [
    "# Matriculados from Admisiones could has no have the same program as the matriculado from Bibliotecas"
   ]
  },
  {
   "cell_type": "code",
   "execution_count": null,
   "id": "9d43192e",
   "metadata": {},
   "outputs": [],
   "source": [
    "# copy_trans has deleted user that have to map into the database"
   ]
  },
  {
   "cell_type": "code",
   "execution_count": null,
   "id": "3b610915",
   "metadata": {},
   "outputs": [],
   "source": [
    "# matriculados can have a type of borrower"
   ]
  },
  {
   "cell_type": "code",
   "execution_count": 2,
   "id": "52915f6a",
   "metadata": {},
   "outputs": [],
   "source": [
    "# Matriculados schema\n",
    "\n",
    "# 1. code (pkey)\n",
    "# 2. program\n",
    "# 3. jor\n",
    "# 4. sede\n",
    "# 5. borrower Type\n",
    "# 6. departament\n",
    "# 7. birth date\n",
    "# 8. periodo\n",
    "# 9. genero\n",
    "\n",
    "# m_bajos: si ha sido retirado por bajos\n",
    "# per_matriculados: número de períodos matriculados\n",
    "# per_cancelados: número de períodos cancelados\n",
    "# m_tesis: restricción con continuaciones de trabajo de grado\n",
    "# m_activo: está matriculado?\n",
    "# m_periodo_activo: último período matriculado\n",
    "# m_grado: está graduado?\n",
    "# sexo,\n",
    "# Fecha_nacimiento,\n",
    "# Estrato,"
   ]
  },
  {
   "cell_type": "code",
   "execution_count": 4,
   "id": "2e6d907c",
   "metadata": {},
   "outputs": [],
   "source": [
    "# MATRICULADOS INSERT o UPDATE : \n",
    "# \n",
    "# codigo,\n",
    "# nombre,\n",
    "# apellidos,\n",
    "# programa,\n",
    "# sede,\n",
    "# jornada,\n",
    "# enfasis,\n",
    "# tipo_doc,\n",
    "# doc,\n",
    "# m_bajos: si ha sido retirado por bajos\n",
    "# per_matriculados: número de períodos matriculados\n",
    "# per_cancelados: número de períodos cancelados\n",
    "# m_tesis: restricción con continuaciones de trabajo de grado\n",
    "# m_activo: está matriculado?\n",
    "# m_periodo_activo: último período matriculado\n",
    "# m_grado: está graduado?\n",
    "# sexo,\n",
    "# Fecha_nacimiento,\n",
    "# Comuna,\n",
    "# Direc,\n",
    "# Estrato,\n",
    "# cod_barrio,\n",
    "# cod_ciudad,\n",
    "# Cod_Colegio: (Me puedes enviar la BD de colegio codigo y nombre)\n",
    "# Anio_egreso,\n",
    "# Valor_matricula,\n",
    "# Telefono,\n",
    "# celular,\n",
    "# Correo_personal,\n",
    "# Correo_Institucional,\n",
    "# Valor_pension"
   ]
  },
  {
   "cell_type": "code",
   "execution_count": null,
   "id": "052666cb",
   "metadata": {},
   "outputs": [],
   "source": []
  }
 ],
 "metadata": {
  "kernelspec": {
   "display_name": "Python 3 (ipykernel)",
   "language": "python",
   "name": "python3"
  },
  "language_info": {
   "codemirror_mode": {
    "name": "ipython",
    "version": 3
   },
   "file_extension": ".py",
   "mimetype": "text/x-python",
   "name": "python",
   "nbconvert_exporter": "python",
   "pygments_lexer": "ipython3",
   "version": "3.7.11"
  }
 },
 "nbformat": 4,
 "nbformat_minor": 5
}
