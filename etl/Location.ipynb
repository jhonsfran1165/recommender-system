{
 "cells": [
  {
   "cell_type": "code",
   "execution_count": 15,
   "metadata": {},
   "outputs": [
    {
     "name": "stderr",
     "output_type": "stream",
     "text": [
      "/opt/app/.venv/lib/python3.7/site-packages/ipykernel_launcher.py:13: FutureWarning: The default value of regex will change from True to False in a future version.\n",
      "  del sys.path[0]\n"
     ]
    },
    {
     "data": {
      "text/html": [
       "<div>\n",
       "<style scoped>\n",
       "    .dataframe tbody tr th:only-of-type {\n",
       "        vertical-align: middle;\n",
       "    }\n",
       "\n",
       "    .dataframe tbody tr th {\n",
       "        vertical-align: top;\n",
       "    }\n",
       "\n",
       "    .dataframe thead th {\n",
       "        text-align: right;\n",
       "    }\n",
       "</style>\n",
       "<table border=\"1\" class=\"dataframe\">\n",
       "  <thead>\n",
       "    <tr style=\"text-align: right;\">\n",
       "      <th></th>\n",
       "      <th>LOC</th>\n",
       "      <th>LOCLD</th>\n",
       "    </tr>\n",
       "  </thead>\n",
       "  <tbody>\n",
       "    <tr>\n",
       "      <th>0</th>\n",
       "      <td>EDU</td>\n",
       "      <td>Centro Doc. CENDOPU - Inst. Educación y Pedago...</td>\n",
       "    </tr>\n",
       "    <tr>\n",
       "      <th>1</th>\n",
       "      <td>YUM</td>\n",
       "      <td>Biblioteca Sede Yumbo - Univalle</td>\n",
       "    </tr>\n",
       "    <tr>\n",
       "      <th>2</th>\n",
       "      <td>CAI</td>\n",
       "      <td>Biblioteca Sede Caicedonia - Univalle</td>\n",
       "    </tr>\n",
       "    <tr>\n",
       "      <th>3</th>\n",
       "      <td>BALT</td>\n",
       "      <td>Biblioteca Alvaro Lopez Toro. Univalle.</td>\n",
       "    </tr>\n",
       "    <tr>\n",
       "      <th>4</th>\n",
       "      <td>BMC</td>\n",
       "      <td>Biblioteca Mario Carvajal - Melendez - Cali. U...</td>\n",
       "    </tr>\n",
       "    <tr>\n",
       "      <th>5</th>\n",
       "      <td>BSF</td>\n",
       "      <td>Biblioteca San Fernando - Cali. Univalle.</td>\n",
       "    </tr>\n",
       "    <tr>\n",
       "      <th>6</th>\n",
       "      <td>PAL</td>\n",
       "      <td>Biblioteca Sede Palmira - Univalle</td>\n",
       "    </tr>\n",
       "    <tr>\n",
       "      <th>7</th>\n",
       "      <td>ZAR</td>\n",
       "      <td>Biblioteca Sede Zarzal - Univalle</td>\n",
       "    </tr>\n",
       "    <tr>\n",
       "      <th>8</th>\n",
       "      <td>BUG</td>\n",
       "      <td>Biblioteca Sede Buga - Univalle</td>\n",
       "    </tr>\n",
       "    <tr>\n",
       "      <th>9</th>\n",
       "      <td>BTURA</td>\n",
       "      <td>Biblioteca Sede Pacífico - Univalle</td>\n",
       "    </tr>\n",
       "    <tr>\n",
       "      <th>10</th>\n",
       "      <td>CSE</td>\n",
       "      <td>Centro Doc. CENDOC - CIDSE - Facultad Ciencias...</td>\n",
       "    </tr>\n",
       "    <tr>\n",
       "      <th>11</th>\n",
       "      <td>CDELC</td>\n",
       "      <td>Centro Doc. Escuela Ciencias del Lenguaje. Uni...</td>\n",
       "    </tr>\n",
       "    <tr>\n",
       "      <th>12</th>\n",
       "      <td>CINAR</td>\n",
       "      <td>Centro Doc. CINARA - Instituto de Investigació...</td>\n",
       "    </tr>\n",
       "    <tr>\n",
       "      <th>13</th>\n",
       "      <td>NCU</td>\n",
       "      <td>Biblioteca Sede Norte del Cauca - Univalle</td>\n",
       "    </tr>\n",
       "    <tr>\n",
       "      <th>14</th>\n",
       "      <td>CTSOC</td>\n",
       "      <td>Centro Doc. CEDIS - Centro de Documentación en...</td>\n",
       "    </tr>\n",
       "    <tr>\n",
       "      <th>15</th>\n",
       "      <td>HOS</td>\n",
       "      <td>Biblioteca Hospital Departamental del Valle</td>\n",
       "    </tr>\n",
       "    <tr>\n",
       "      <th>16</th>\n",
       "      <td>TUL</td>\n",
       "      <td>Biblioteca Sede Tulua - Univalle</td>\n",
       "    </tr>\n",
       "    <tr>\n",
       "      <th>17</th>\n",
       "      <td>CAR</td>\n",
       "      <td>Biblioteca Sede Cartago - Univalle</td>\n",
       "    </tr>\n",
       "  </tbody>\n",
       "</table>\n",
       "</div>"
      ],
      "text/plain": [
       "      LOC                                              LOCLD\n",
       "0     EDU  Centro Doc. CENDOPU - Inst. Educación y Pedago...\n",
       "1     YUM                   Biblioteca Sede Yumbo - Univalle\n",
       "2     CAI              Biblioteca Sede Caicedonia - Univalle\n",
       "3    BALT            Biblioteca Alvaro Lopez Toro. Univalle.\n",
       "4     BMC  Biblioteca Mario Carvajal - Melendez - Cali. U...\n",
       "5     BSF          Biblioteca San Fernando - Cali. Univalle.\n",
       "6     PAL                 Biblioteca Sede Palmira - Univalle\n",
       "7     ZAR                  Biblioteca Sede Zarzal - Univalle\n",
       "8     BUG                    Biblioteca Sede Buga - Univalle\n",
       "9   BTURA                Biblioteca Sede Pacífico - Univalle\n",
       "10    CSE  Centro Doc. CENDOC - CIDSE - Facultad Ciencias...\n",
       "11  CDELC  Centro Doc. Escuela Ciencias del Lenguaje. Uni...\n",
       "12  CINAR  Centro Doc. CINARA - Instituto de Investigació...\n",
       "13    NCU         Biblioteca Sede Norte del Cauca - Univalle\n",
       "14  CTSOC  Centro Doc. CEDIS - Centro de Documentación en...\n",
       "15    HOS        Biblioteca Hospital Departamental del Valle\n",
       "16    TUL                   Biblioteca Sede Tulua - Univalle\n",
       "17    CAR                 Biblioteca Sede Cartago - Univalle"
      ]
     },
     "execution_count": 15,
     "metadata": {},
     "output_type": "execute_result"
    }
   ],
   "source": [
    "import pandas as pd\n",
    "\n",
    "df = pd.read_csv(\n",
    "        '../data/locs.txt',\n",
    "    encoding = \"ISO-8859-1\",\n",
    "    sep='|',\n",
    "    engine='python',\n",
    "    doublequote=True\n",
    ")\n",
    "\n",
    "\n",
    "df.columns = df.columns.str.replace(\"'\",'')\n",
    "df.columns = df.columns.str.replace(\"\\|\\|\\|\\|\\|\",\"|\")\n",
    "columns = df.columns.str.split(\"|\")[0]\n",
    "df.columns = [(\"data\")]\n",
    "\n",
    "\n",
    "new_df = df['data'].str.split(pat=\"|\", expand=True)\n",
    "df[columns] = new_df.iloc[:,:2]\n",
    "df = df.iloc[:,1:3]\n",
    "df"
   ]
  },
  {
   "cell_type": "code",
   "execution_count": 16,
   "metadata": {
    "scrolled": true
   },
   "outputs": [
    {
     "data": {
      "text/html": [
       "<div>\n",
       "<style scoped>\n",
       "    .dataframe tbody tr th:only-of-type {\n",
       "        vertical-align: middle;\n",
       "    }\n",
       "\n",
       "    .dataframe tbody tr th {\n",
       "        vertical-align: top;\n",
       "    }\n",
       "\n",
       "    .dataframe thead th {\n",
       "        text-align: right;\n",
       "    }\n",
       "</style>\n",
       "<table border=\"1\" class=\"dataframe\">\n",
       "  <thead>\n",
       "    <tr style=\"text-align: right;\">\n",
       "      <th></th>\n",
       "      <th>LOCLD</th>\n",
       "    </tr>\n",
       "    <tr>\n",
       "      <th>LOC</th>\n",
       "      <th></th>\n",
       "    </tr>\n",
       "  </thead>\n",
       "  <tbody>\n",
       "    <tr>\n",
       "      <th>EDU</th>\n",
       "      <td>Centro Doc. CENDOPU - Inst. Educación y Pedago...</td>\n",
       "    </tr>\n",
       "    <tr>\n",
       "      <th>YUM</th>\n",
       "      <td>Biblioteca Sede Yumbo - Univalle</td>\n",
       "    </tr>\n",
       "    <tr>\n",
       "      <th>CAI</th>\n",
       "      <td>Biblioteca Sede Caicedonia - Univalle</td>\n",
       "    </tr>\n",
       "    <tr>\n",
       "      <th>BALT</th>\n",
       "      <td>Biblioteca Alvaro Lopez Toro. Univalle.</td>\n",
       "    </tr>\n",
       "    <tr>\n",
       "      <th>BMC</th>\n",
       "      <td>Biblioteca Mario Carvajal - Melendez - Cali. U...</td>\n",
       "    </tr>\n",
       "    <tr>\n",
       "      <th>BSF</th>\n",
       "      <td>Biblioteca San Fernando - Cali. Univalle.</td>\n",
       "    </tr>\n",
       "    <tr>\n",
       "      <th>PAL</th>\n",
       "      <td>Biblioteca Sede Palmira - Univalle</td>\n",
       "    </tr>\n",
       "    <tr>\n",
       "      <th>ZAR</th>\n",
       "      <td>Biblioteca Sede Zarzal - Univalle</td>\n",
       "    </tr>\n",
       "    <tr>\n",
       "      <th>BUG</th>\n",
       "      <td>Biblioteca Sede Buga - Univalle</td>\n",
       "    </tr>\n",
       "    <tr>\n",
       "      <th>BTURA</th>\n",
       "      <td>Biblioteca Sede Pacífico - Univalle</td>\n",
       "    </tr>\n",
       "    <tr>\n",
       "      <th>CSE</th>\n",
       "      <td>Centro Doc. CENDOC - CIDSE - Facultad Ciencias...</td>\n",
       "    </tr>\n",
       "    <tr>\n",
       "      <th>CDELC</th>\n",
       "      <td>Centro Doc. Escuela Ciencias del Lenguaje. Uni...</td>\n",
       "    </tr>\n",
       "    <tr>\n",
       "      <th>CINAR</th>\n",
       "      <td>Centro Doc. CINARA - Instituto de Investigació...</td>\n",
       "    </tr>\n",
       "    <tr>\n",
       "      <th>NCU</th>\n",
       "      <td>Biblioteca Sede Norte del Cauca - Univalle</td>\n",
       "    </tr>\n",
       "    <tr>\n",
       "      <th>CTSOC</th>\n",
       "      <td>Centro Doc. CEDIS - Centro de Documentación en...</td>\n",
       "    </tr>\n",
       "    <tr>\n",
       "      <th>HOS</th>\n",
       "      <td>Biblioteca Hospital Departamental del Valle</td>\n",
       "    </tr>\n",
       "    <tr>\n",
       "      <th>TUL</th>\n",
       "      <td>Biblioteca Sede Tulua - Univalle</td>\n",
       "    </tr>\n",
       "    <tr>\n",
       "      <th>CAR</th>\n",
       "      <td>Biblioteca Sede Cartago - Univalle</td>\n",
       "    </tr>\n",
       "  </tbody>\n",
       "</table>\n",
       "</div>"
      ],
      "text/plain": [
       "                                                   LOCLD\n",
       "LOC                                                     \n",
       "EDU    Centro Doc. CENDOPU - Inst. Educación y Pedago...\n",
       "YUM                     Biblioteca Sede Yumbo - Univalle\n",
       "CAI                Biblioteca Sede Caicedonia - Univalle\n",
       "BALT             Biblioteca Alvaro Lopez Toro. Univalle.\n",
       "BMC    Biblioteca Mario Carvajal - Melendez - Cali. U...\n",
       "BSF            Biblioteca San Fernando - Cali. Univalle.\n",
       "PAL                   Biblioteca Sede Palmira - Univalle\n",
       "ZAR                    Biblioteca Sede Zarzal - Univalle\n",
       "BUG                      Biblioteca Sede Buga - Univalle\n",
       "BTURA                Biblioteca Sede Pacífico - Univalle\n",
       "CSE    Centro Doc. CENDOC - CIDSE - Facultad Ciencias...\n",
       "CDELC  Centro Doc. Escuela Ciencias del Lenguaje. Uni...\n",
       "CINAR  Centro Doc. CINARA - Instituto de Investigació...\n",
       "NCU           Biblioteca Sede Norte del Cauca - Univalle\n",
       "CTSOC  Centro Doc. CEDIS - Centro de Documentación en...\n",
       "HOS          Biblioteca Hospital Departamental del Valle\n",
       "TUL                     Biblioteca Sede Tulua - Univalle\n",
       "CAR                   Biblioteca Sede Cartago - Univalle"
      ]
     },
     "execution_count": 16,
     "metadata": {},
     "output_type": "execute_result"
    }
   ],
   "source": [
    "df.set_index('LOC', inplace=True)\n",
    "df.sort_values('LOC')\n",
    "df"
   ]
  },
  {
   "cell_type": "code",
   "execution_count": 17,
   "metadata": {},
   "outputs": [
    {
     "data": {
      "text/plain": [
       "LOCLD    object\n",
       "dtype: object"
      ]
     },
     "execution_count": 17,
     "metadata": {},
     "output_type": "execute_result"
    }
   ],
   "source": [
    "df.dtypes"
   ]
  },
  {
   "cell_type": "code",
   "execution_count": 18,
   "metadata": {},
   "outputs": [
    {
     "data": {
      "text/html": [
       "<div>\n",
       "<style scoped>\n",
       "    .dataframe tbody tr th:only-of-type {\n",
       "        vertical-align: middle;\n",
       "    }\n",
       "\n",
       "    .dataframe tbody tr th {\n",
       "        vertical-align: top;\n",
       "    }\n",
       "\n",
       "    .dataframe thead th {\n",
       "        text-align: right;\n",
       "    }\n",
       "</style>\n",
       "<table border=\"1\" class=\"dataframe\">\n",
       "  <thead>\n",
       "    <tr style=\"text-align: right;\">\n",
       "      <th></th>\n",
       "      <th>LOCLD</th>\n",
       "    </tr>\n",
       "  </thead>\n",
       "  <tbody>\n",
       "    <tr>\n",
       "      <th>count</th>\n",
       "      <td>18</td>\n",
       "    </tr>\n",
       "    <tr>\n",
       "      <th>unique</th>\n",
       "      <td>18</td>\n",
       "    </tr>\n",
       "    <tr>\n",
       "      <th>top</th>\n",
       "      <td>Centro Doc. CENDOPU - Inst. Educación y Pedago...</td>\n",
       "    </tr>\n",
       "    <tr>\n",
       "      <th>freq</th>\n",
       "      <td>1</td>\n",
       "    </tr>\n",
       "  </tbody>\n",
       "</table>\n",
       "</div>"
      ],
      "text/plain": [
       "                                                    LOCLD\n",
       "count                                                  18\n",
       "unique                                                 18\n",
       "top     Centro Doc. CENDOPU - Inst. Educación y Pedago...\n",
       "freq                                                    1"
      ]
     },
     "execution_count": 18,
     "metadata": {},
     "output_type": "execute_result"
    }
   ],
   "source": [
    "df.describe()"
   ]
  },
  {
   "cell_type": "markdown",
   "metadata": {},
   "source": [
    "# Cleaning Data\n",
    "\n",
    "##### https://towardsdatascience.com/how-to-check-for-missing-values-in-pandas-d2749e45a345\n"
   ]
  },
  {
   "cell_type": "code",
   "execution_count": 19,
   "metadata": {},
   "outputs": [
    {
     "data": {
      "text/plain": [
       "False"
      ]
     },
     "execution_count": 19,
     "metadata": {},
     "output_type": "execute_result"
    }
   ],
   "source": [
    "df.isna().any().any()"
   ]
  },
  {
   "cell_type": "code",
   "execution_count": 20,
   "metadata": {},
   "outputs": [
    {
     "data": {
      "text/plain": [
       "False"
      ]
     },
     "execution_count": 20,
     "metadata": {},
     "output_type": "execute_result"
    }
   ],
   "source": [
    "df.isnull().any().any()"
   ]
  },
  {
   "cell_type": "code",
   "execution_count": 21,
   "metadata": {},
   "outputs": [
    {
     "data": {
      "text/plain": [
       "0"
      ]
     },
     "execution_count": 21,
     "metadata": {},
     "output_type": "execute_result"
    }
   ],
   "source": [
    "df.isna().sum().sum()"
   ]
  },
  {
   "cell_type": "code",
   "execution_count": 22,
   "metadata": {},
   "outputs": [
    {
     "data": {
      "text/plain": [
       "LOCLD    0.0\n",
       "dtype: float64"
      ]
     },
     "execution_count": 22,
     "metadata": {},
     "output_type": "execute_result"
    }
   ],
   "source": [
    "df.isna().sum()/(len(df))*100"
   ]
  },
  {
   "cell_type": "code",
   "execution_count": 23,
   "metadata": {},
   "outputs": [
    {
     "data": {
      "text/plain": [
       "Index([], dtype='object')"
      ]
     },
     "execution_count": 23,
     "metadata": {},
     "output_type": "execute_result"
    }
   ],
   "source": [
    "df.loc[:, df.isnull().any()].columns"
   ]
  },
  {
   "cell_type": "code",
   "execution_count": 25,
   "metadata": {},
   "outputs": [
    {
     "data": {
      "text/html": [
       "<div>\n",
       "<style scoped>\n",
       "    .dataframe tbody tr th:only-of-type {\n",
       "        vertical-align: middle;\n",
       "    }\n",
       "\n",
       "    .dataframe tbody tr th {\n",
       "        vertical-align: top;\n",
       "    }\n",
       "\n",
       "    .dataframe thead th {\n",
       "        text-align: right;\n",
       "    }\n",
       "</style>\n",
       "<table border=\"1\" class=\"dataframe\">\n",
       "  <thead>\n",
       "    <tr style=\"text-align: right;\">\n",
       "      <th></th>\n",
       "      <th>LOCLD</th>\n",
       "    </tr>\n",
       "    <tr>\n",
       "      <th>LOC</th>\n",
       "      <th></th>\n",
       "    </tr>\n",
       "  </thead>\n",
       "  <tbody>\n",
       "    <tr>\n",
       "      <th>EDU</th>\n",
       "      <td>Centro Doc. CENDOPU - Inst. Educación y Pedago...</td>\n",
       "    </tr>\n",
       "    <tr>\n",
       "      <th>YUM</th>\n",
       "      <td>Biblioteca Sede Yumbo - Univalle</td>\n",
       "    </tr>\n",
       "    <tr>\n",
       "      <th>CAI</th>\n",
       "      <td>Biblioteca Sede Caicedonia - Univalle</td>\n",
       "    </tr>\n",
       "    <tr>\n",
       "      <th>BALT</th>\n",
       "      <td>Biblioteca Alvaro Lopez Toro. Univalle.</td>\n",
       "    </tr>\n",
       "    <tr>\n",
       "      <th>BMC</th>\n",
       "      <td>Biblioteca Mario Carvajal - Melendez - Cali. U...</td>\n",
       "    </tr>\n",
       "    <tr>\n",
       "      <th>BSF</th>\n",
       "      <td>Biblioteca San Fernando - Cali. Univalle.</td>\n",
       "    </tr>\n",
       "    <tr>\n",
       "      <th>PAL</th>\n",
       "      <td>Biblioteca Sede Palmira - Univalle</td>\n",
       "    </tr>\n",
       "    <tr>\n",
       "      <th>ZAR</th>\n",
       "      <td>Biblioteca Sede Zarzal - Univalle</td>\n",
       "    </tr>\n",
       "    <tr>\n",
       "      <th>BUG</th>\n",
       "      <td>Biblioteca Sede Buga - Univalle</td>\n",
       "    </tr>\n",
       "    <tr>\n",
       "      <th>BTURA</th>\n",
       "      <td>Biblioteca Sede Pacífico - Univalle</td>\n",
       "    </tr>\n",
       "    <tr>\n",
       "      <th>CSE</th>\n",
       "      <td>Centro Doc. CENDOC - CIDSE - Facultad Ciencias...</td>\n",
       "    </tr>\n",
       "    <tr>\n",
       "      <th>CDELC</th>\n",
       "      <td>Centro Doc. Escuela Ciencias del Lenguaje. Uni...</td>\n",
       "    </tr>\n",
       "    <tr>\n",
       "      <th>CINAR</th>\n",
       "      <td>Centro Doc. CINARA - Instituto de Investigació...</td>\n",
       "    </tr>\n",
       "    <tr>\n",
       "      <th>NCU</th>\n",
       "      <td>Biblioteca Sede Norte del Cauca - Univalle</td>\n",
       "    </tr>\n",
       "    <tr>\n",
       "      <th>CTSOC</th>\n",
       "      <td>Centro Doc. CEDIS - Centro de Documentación en...</td>\n",
       "    </tr>\n",
       "    <tr>\n",
       "      <th>HOS</th>\n",
       "      <td>Biblioteca Hospital Departamental del Valle</td>\n",
       "    </tr>\n",
       "    <tr>\n",
       "      <th>TUL</th>\n",
       "      <td>Biblioteca Sede Tulua - Univalle</td>\n",
       "    </tr>\n",
       "    <tr>\n",
       "      <th>CAR</th>\n",
       "      <td>Biblioteca Sede Cartago - Univalle</td>\n",
       "    </tr>\n",
       "  </tbody>\n",
       "</table>\n",
       "</div>"
      ],
      "text/plain": [
       "                                                   LOCLD\n",
       "LOC                                                     \n",
       "EDU    Centro Doc. CENDOPU - Inst. Educación y Pedago...\n",
       "YUM                     Biblioteca Sede Yumbo - Univalle\n",
       "CAI                Biblioteca Sede Caicedonia - Univalle\n",
       "BALT             Biblioteca Alvaro Lopez Toro. Univalle.\n",
       "BMC    Biblioteca Mario Carvajal - Melendez - Cali. U...\n",
       "BSF            Biblioteca San Fernando - Cali. Univalle.\n",
       "PAL                   Biblioteca Sede Palmira - Univalle\n",
       "ZAR                    Biblioteca Sede Zarzal - Univalle\n",
       "BUG                      Biblioteca Sede Buga - Univalle\n",
       "BTURA                Biblioteca Sede Pacífico - Univalle\n",
       "CSE    Centro Doc. CENDOC - CIDSE - Facultad Ciencias...\n",
       "CDELC  Centro Doc. Escuela Ciencias del Lenguaje. Uni...\n",
       "CINAR  Centro Doc. CINARA - Instituto de Investigació...\n",
       "NCU           Biblioteca Sede Norte del Cauca - Univalle\n",
       "CTSOC  Centro Doc. CEDIS - Centro de Documentación en...\n",
       "HOS          Biblioteca Hospital Departamental del Valle\n",
       "TUL                     Biblioteca Sede Tulua - Univalle\n",
       "CAR                   Biblioteca Sede Cartago - Univalle"
      ]
     },
     "execution_count": 25,
     "metadata": {},
     "output_type": "execute_result"
    }
   ],
   "source": [
    "df.dropna(subset=[\"LOCLD\"])"
   ]
  },
  {
   "cell_type": "markdown",
   "metadata": {},
   "source": [
    "# Save data to another file"
   ]
  },
  {
   "cell_type": "code",
   "execution_count": 26,
   "metadata": {},
   "outputs": [],
   "source": [
    "df.to_csv('locations_modified.csv', index=True, sep='*')"
   ]
  }
 ],
 "metadata": {
  "kernelspec": {
   "display_name": "Python 3 (ipykernel)",
   "language": "python",
   "name": "python3"
  },
  "language_info": {
   "codemirror_mode": {
    "name": "ipython",
    "version": 3
   },
   "file_extension": ".py",
   "mimetype": "text/x-python",
   "name": "python",
   "nbconvert_exporter": "python",
   "pygments_lexer": "ipython3",
   "version": "3.7.11"
  }
 },
 "nbformat": 4,
 "nbformat_minor": 4
}
