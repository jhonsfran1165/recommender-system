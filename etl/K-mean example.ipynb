{
 "cells": [
  {
   "cell_type": "code",
   "execution_count": null,
   "id": "3088b587",
   "metadata": {},
   "outputs": [],
   "source": [
    "import os\n",
    "import logging\n",
    "import time\n",
    "import psycopg2\n",
    "\n",
    "import pandas as pd\n",
    "import numpy as np\n",
    "\n",
    "logging.basicConfig(level=logging.INFO)\n",
    "logger = logging.getLogger(__name__)\n",
    "\n",
    "\n",
    "def connect_postgres():\n",
    "    database = os.environ['POSTGRES_DB']\n",
    "    user = os.environ['POSTGRES_USER']\n",
    "    password = os.environ['POSTGRES_PASSWORD']\n",
    "    host = os.environ['POSTGRES_SERVER']\n",
    "    port = 5432\n",
    "\n",
    "    exc, conn = None, None\n",
    "\n",
    "    for _ in range(5):\n",
    "        try:\n",
    "            conn = psycopg2.connect(\n",
    "                database=database, user=user, password=password, host=host, port=port)\n",
    "        except Exception as e:\n",
    "            logging.warning(\"Error connecting to postgres, will retry in 3 sec: %s\", e)\n",
    "            time.sleep(3)\n",
    "            exc = e\n",
    "        else:\n",
    "            logging.info(\"Connected...\")\n",
    "            logging.info(\"Everything goes well from Postgres, you're a fu*** pro...\")\n",
    "            break\n",
    "    else:\n",
    "        logging.error(\"Unable to connect to  %s DB\", database)\n",
    "        raise exc\n",
    "    \n",
    "    return conn\n"
   ]
  },
  {
   "cell_type": "code",
   "execution_count": null,
   "id": "fdf34586",
   "metadata": {},
   "outputs": [],
   "source": [
    "engine = connect_postgres()"
   ]
  },
  {
   "cell_type": "code",
   "execution_count": null,
   "id": "0b3f2500",
   "metadata": {},
   "outputs": [],
   "source": [
    "df = pd.read_sql(\"\"\"\n",
    "    SELECT code, estrato, birth_date,\n",
    "    DATE_PART('year', to_date(SUBSTRING(code::text, 1, 4)::text, 'YYYY')) - DATE_PART('year', student.birth_date::date) as age,\n",
    "    sexo, m_grado, m_activo, m_tesis, per_cancelados, per_matriculados, bajos_rendimientos, trans_type_code, count(trans_type_code)\n",
    "    FROM public.copytransaction, public.student, public.transactiontype, public.date\n",
    "    WHERE trans_borrower_code = student.id\n",
    "        AND trans_type_id = transactiontype.id\n",
    "        AND trans_location_code_id = 5\n",
    "        AND trans_type_code = 'ISS'\n",
    "        AND trans_date_id = date.id\n",
    "    GROUP BY code, estrato, birth_date, sexo, m_grado, m_activo, m_tesis, per_cancelados, age, per_matriculados, bajos_rendimientos, trans_type_code    \n",
    "\"\"\", con=engine)"
   ]
  },
  {
   "cell_type": "code",
   "execution_count": null,
   "id": "67193990",
   "metadata": {},
   "outputs": [],
   "source": [
    "df"
   ]
  },
  {
   "cell_type": "code",
   "execution_count": 7,
   "id": "b1af5ed3",
   "metadata": {},
   "outputs": [
    {
     "name": "stdout",
     "output_type": "stream",
     "text": [
      "<class 'pandas.core.frame.DataFrame'>\n",
      "RangeIndex: 56412 entries, 0 to 56411\n",
      "Data columns (total 13 columns):\n",
      " #   Column              Non-Null Count  Dtype  \n",
      "---  ------              --------------  -----  \n",
      " 0   code                56412 non-null  int64  \n",
      " 1   estrato             56412 non-null  int64  \n",
      " 2   birth_date          56412 non-null  object \n",
      " 3   age                 56412 non-null  float64\n",
      " 4   sexo                56412 non-null  object \n",
      " 5   m_grado             56412 non-null  bool   \n",
      " 6   m_activo            56412 non-null  bool   \n",
      " 7   m_tesis             56412 non-null  bool   \n",
      " 8   per_cancelados      56412 non-null  int64  \n",
      " 9   per_matriculados    56412 non-null  int64  \n",
      " 10  bajos_rendimientos  56412 non-null  bool   \n",
      " 11  trans_type_code     56412 non-null  object \n",
      " 12  count               56412 non-null  int64  \n",
      "dtypes: bool(4), float64(1), int64(5), object(3)\n",
      "memory usage: 4.1+ MB\n"
     ]
    }
   ],
   "source": [
    "df.info()"
   ]
  },
  {
   "cell_type": "code",
   "execution_count": 8,
   "id": "a340c085",
   "metadata": {},
   "outputs": [],
   "source": [
    "df[\"bajos_rendimientos\"] = df[\"bajos_rendimientos\"].astype(int)\n",
    "df[\"m_grado\"] = df[\"m_grado\"].astype(int)\n",
    "df[\"m_activo\"] = df[\"m_activo\"].astype(int)\n",
    "df[\"m_tesis\"] = df[\"m_tesis\"].astype(int)\n",
    "df[\"age\"] = df[\"age\"].astype(int)\n",
    "\n",
    "# df = df.drop(columns=['trans_type_code'])"
   ]
  },
  {
   "cell_type": "code",
   "execution_count": 9,
   "id": "cc1afd49",
   "metadata": {},
   "outputs": [
    {
     "data": {
      "text/plain": [
       "code                  0\n",
       "estrato               0\n",
       "birth_date            0\n",
       "age                   0\n",
       "sexo                  0\n",
       "m_grado               0\n",
       "m_activo              0\n",
       "m_tesis               0\n",
       "per_cancelados        0\n",
       "per_matriculados      0\n",
       "bajos_rendimientos    0\n",
       "trans_type_code       0\n",
       "count                 0\n",
       "dtype: int64"
      ]
     },
     "execution_count": 9,
     "metadata": {},
     "output_type": "execute_result"
    }
   ],
   "source": [
    "#exploring the data\n",
    "\n",
    "# checking null values\n",
    "df.isnull().sum()\n",
    "\n",
    "# visualize them\n",
    "# df[df['bajos_rendimientos'].isnull()]"
   ]
  },
  {
   "cell_type": "code",
   "execution_count": 10,
   "id": "03f032f9",
   "metadata": {},
   "outputs": [],
   "source": [
    "df.drop(df[df['age'] < 14].index, inplace = True)\n",
    "df.drop(df[df['age'] > 80].index, inplace = True)"
   ]
  },
  {
   "cell_type": "code",
   "execution_count": 11,
   "id": "7a035c6b",
   "metadata": {},
   "outputs": [
    {
     "name": "stdout",
     "output_type": "stream",
     "text": [
      "The number of values for feature code :56290\n",
      "The number of values for feature estrato :8 -- [ 0  1  2  3  4  5  6 11]\n",
      "The number of values for feature birth_date :11647\n",
      "The number of values for feature age :54 -- [14 15 16 17 18 19 20 21 22 23 24 25 26 27 28 29 30 31 32 33 34 35 36 37\n",
      " 38 39 40 41 42 43 44 45 46 47 48 49 50 51 52 53 54 55 56 57 58 59 60 61\n",
      " 62 63 64 67 69 73]\n",
      "The number of values for feature sexo :2 -- ['F' 'M']\n",
      "The number of values for feature m_grado :2 -- [0 1]\n",
      "The number of values for feature m_activo :2 -- [0 1]\n",
      "The number of values for feature m_tesis :2 -- [0 1]\n",
      "The number of values for feature per_cancelados :9 -- [0 1 2 3 4 5 6 7 8]\n",
      "The number of values for feature per_matriculados :37 -- [ 0  1  2  3  4  5  6  7  8  9 10 11 12 13 14 15 16 17 18 19 20 21 22 23\n",
      " 24 25 26 27 28 29 30 31 32 33 34 35 45]\n",
      "The number of values for feature bajos_rendimientos :2 -- [0 1]\n",
      "The number of values for feature trans_type_code :1 -- ['ISS']\n",
      "The number of values for feature count :673\n"
     ]
    }
   ],
   "source": [
    "# investigate all the elements within each feature\n",
    "\n",
    "for column in df:\n",
    "    unique_values = np.unique(df[column])\n",
    "    nr_values = len(unique_values)\n",
    "    if nr_values < 100:\n",
    "        print('The number of values for feature {} :{} -- {}'.format(column, nr_values,unique_values))\n",
    "    else:\n",
    "        print('The number of values for feature {} :{}'.format(column, nr_values))"
   ]
  },
  {
   "cell_type": "code",
   "execution_count": 12,
   "id": "397d1580",
   "metadata": {},
   "outputs": [
    {
     "data": {
      "text/html": [
       "<div>\n",
       "<style scoped>\n",
       "    .dataframe tbody tr th:only-of-type {\n",
       "        vertical-align: middle;\n",
       "    }\n",
       "\n",
       "    .dataframe tbody tr th {\n",
       "        vertical-align: top;\n",
       "    }\n",
       "\n",
       "    .dataframe thead th {\n",
       "        text-align: right;\n",
       "    }\n",
       "</style>\n",
       "<table border=\"1\" class=\"dataframe\">\n",
       "  <thead>\n",
       "    <tr style=\"text-align: right;\">\n",
       "      <th></th>\n",
       "      <th>code</th>\n",
       "      <th>estrato</th>\n",
       "      <th>age</th>\n",
       "      <th>m_grado</th>\n",
       "      <th>m_activo</th>\n",
       "      <th>m_tesis</th>\n",
       "      <th>per_cancelados</th>\n",
       "      <th>per_matriculados</th>\n",
       "      <th>bajos_rendimientos</th>\n",
       "      <th>count</th>\n",
       "    </tr>\n",
       "  </thead>\n",
       "  <tbody>\n",
       "    <tr>\n",
       "      <th>count</th>\n",
       "      <td>5.629000e+04</td>\n",
       "      <td>56290.000000</td>\n",
       "      <td>56290.000000</td>\n",
       "      <td>56290.000000</td>\n",
       "      <td>56290.000000</td>\n",
       "      <td>56290.000000</td>\n",
       "      <td>56290.000000</td>\n",
       "      <td>56290.000000</td>\n",
       "      <td>56290.000000</td>\n",
       "      <td>56290.000000</td>\n",
       "    </tr>\n",
       "    <tr>\n",
       "      <th>mean</th>\n",
       "      <td>2.006879e+08</td>\n",
       "      <td>2.199147</td>\n",
       "      <td>20.033665</td>\n",
       "      <td>0.463386</td>\n",
       "      <td>0.215012</td>\n",
       "      <td>0.001013</td>\n",
       "      <td>0.176195</td>\n",
       "      <td>8.974596</td>\n",
       "      <td>0.138213</td>\n",
       "      <td>51.897673</td>\n",
       "    </tr>\n",
       "    <tr>\n",
       "      <th>std</th>\n",
       "      <td>6.872306e+05</td>\n",
       "      <td>0.831049</td>\n",
       "      <td>4.243644</td>\n",
       "      <td>0.498662</td>\n",
       "      <td>0.410834</td>\n",
       "      <td>0.031806</td>\n",
       "      <td>0.477505</td>\n",
       "      <td>5.082117</td>\n",
       "      <td>0.345126</td>\n",
       "      <td>83.283829</td>\n",
       "    </tr>\n",
       "    <tr>\n",
       "      <th>min</th>\n",
       "      <td>1.982246e+08</td>\n",
       "      <td>0.000000</td>\n",
       "      <td>14.000000</td>\n",
       "      <td>0.000000</td>\n",
       "      <td>0.000000</td>\n",
       "      <td>0.000000</td>\n",
       "      <td>0.000000</td>\n",
       "      <td>0.000000</td>\n",
       "      <td>0.000000</td>\n",
       "      <td>1.000000</td>\n",
       "    </tr>\n",
       "    <tr>\n",
       "      <th>25%</th>\n",
       "      <td>2.002257e+08</td>\n",
       "      <td>2.000000</td>\n",
       "      <td>18.000000</td>\n",
       "      <td>0.000000</td>\n",
       "      <td>0.000000</td>\n",
       "      <td>0.000000</td>\n",
       "      <td>0.000000</td>\n",
       "      <td>4.000000</td>\n",
       "      <td>0.000000</td>\n",
       "      <td>5.000000</td>\n",
       "    </tr>\n",
       "    <tr>\n",
       "      <th>50%</th>\n",
       "      <td>2.007355e+08</td>\n",
       "      <td>2.000000</td>\n",
       "      <td>19.000000</td>\n",
       "      <td>0.000000</td>\n",
       "      <td>0.000000</td>\n",
       "      <td>0.000000</td>\n",
       "      <td>0.000000</td>\n",
       "      <td>9.000000</td>\n",
       "      <td>0.000000</td>\n",
       "      <td>20.000000</td>\n",
       "    </tr>\n",
       "    <tr>\n",
       "      <th>75%</th>\n",
       "      <td>2.012414e+08</td>\n",
       "      <td>3.000000</td>\n",
       "      <td>21.000000</td>\n",
       "      <td>1.000000</td>\n",
       "      <td>0.000000</td>\n",
       "      <td>0.000000</td>\n",
       "      <td>0.000000</td>\n",
       "      <td>13.000000</td>\n",
       "      <td>0.000000</td>\n",
       "      <td>64.000000</td>\n",
       "    </tr>\n",
       "    <tr>\n",
       "      <th>max</th>\n",
       "      <td>2.018800e+08</td>\n",
       "      <td>11.000000</td>\n",
       "      <td>73.000000</td>\n",
       "      <td>1.000000</td>\n",
       "      <td>1.000000</td>\n",
       "      <td>1.000000</td>\n",
       "      <td>8.000000</td>\n",
       "      <td>45.000000</td>\n",
       "      <td>1.000000</td>\n",
       "      <td>2188.000000</td>\n",
       "    </tr>\n",
       "  </tbody>\n",
       "</table>\n",
       "</div>"
      ],
      "text/plain": [
       "               code       estrato           age       m_grado      m_activo  \\\n",
       "count  5.629000e+04  56290.000000  56290.000000  56290.000000  56290.000000   \n",
       "mean   2.006879e+08      2.199147     20.033665      0.463386      0.215012   \n",
       "std    6.872306e+05      0.831049      4.243644      0.498662      0.410834   \n",
       "min    1.982246e+08      0.000000     14.000000      0.000000      0.000000   \n",
       "25%    2.002257e+08      2.000000     18.000000      0.000000      0.000000   \n",
       "50%    2.007355e+08      2.000000     19.000000      0.000000      0.000000   \n",
       "75%    2.012414e+08      3.000000     21.000000      1.000000      0.000000   \n",
       "max    2.018800e+08     11.000000     73.000000      1.000000      1.000000   \n",
       "\n",
       "            m_tesis  per_cancelados  per_matriculados  bajos_rendimientos  \\\n",
       "count  56290.000000    56290.000000      56290.000000        56290.000000   \n",
       "mean       0.001013        0.176195          8.974596            0.138213   \n",
       "std        0.031806        0.477505          5.082117            0.345126   \n",
       "min        0.000000        0.000000          0.000000            0.000000   \n",
       "25%        0.000000        0.000000          4.000000            0.000000   \n",
       "50%        0.000000        0.000000          9.000000            0.000000   \n",
       "75%        0.000000        0.000000         13.000000            0.000000   \n",
       "max        1.000000        8.000000         45.000000            1.000000   \n",
       "\n",
       "              count  \n",
       "count  56290.000000  \n",
       "mean      51.897673  \n",
       "std       83.283829  \n",
       "min        1.000000  \n",
       "25%        5.000000  \n",
       "50%       20.000000  \n",
       "75%       64.000000  \n",
       "max     2188.000000  "
      ]
     },
     "execution_count": 12,
     "metadata": {},
     "output_type": "execute_result"
    }
   ],
   "source": [
    "df.describe()"
   ]
  },
  {
   "cell_type": "code",
   "execution_count": 25,
   "id": "8ca6e374",
   "metadata": {},
   "outputs": [
    {
     "data": {
      "text/plain": [
       "Index(['code', 'estrato', 'birth_date', 'age', 'sexo', 'm_grado', 'm_activo',\n",
       "       'm_tesis', 'per_cancelados', 'per_matriculados', 'bajos_rendimientos',\n",
       "       'trans_type_code', 'count', 'Clusters'],\n",
       "      dtype='object')"
      ]
     },
     "execution_count": 25,
     "metadata": {},
     "output_type": "execute_result"
    }
   ],
   "source": [
    "# Getting the columns we need\n",
    "\n",
    "df.columns"
   ]
  },
  {
   "cell_type": "code",
   "execution_count": null,
   "id": "35adcce9",
   "metadata": {},
   "outputs": [],
   "source": [
    "features = ['code', 'estrato', 'birth_date', 'age', 'sexo', 'm_grado', 'm_activo',\n",
    "       'm_tesis', 'per_cancelados', 'per_matriculados', 'bajos_rendimientos',\n",
    "       'trans_type_code', 'count']\n",
    "\n",
    "for f in features:\n",
    "    sns.countplot(x = f, data = df, palette = 'Set3')# hue = 'Good Loan')\n",
    "    plt.xticks(rotation=45)\n",
    "    plt.show()\n",
    "    "
   ]
  },
  {
   "cell_type": "code",
   "execution_count": 13,
   "id": "fb443ec9",
   "metadata": {},
   "outputs": [],
   "source": [
    "import seaborn as sns\n",
    "import matplotlib.pyplot as plt\n",
    "%matplotlib inline"
   ]
  },
  {
   "cell_type": "code",
   "execution_count": 15,
   "id": "d3e68b94",
   "metadata": {},
   "outputs": [
    {
     "data": {
      "text/plain": [
       "<seaborn.axisgrid.PairGrid at 0x7f729118d610>"
      ]
     },
     "execution_count": 15,
     "metadata": {},
     "output_type": "execute_result"
    },
    {
     "data": {
      "image/png": "[encoded data removed]",
      "text/plain": [
       "<Figure size 360x360 with 6 Axes>"
      ]
     },
     "metadata": {
      "needs_background": "light"
     },
     "output_type": "display_data"
    }
   ],
   "source": [
    "# Plot age, estrato, per_cancelados, per_matriculados\n",
    "sns.pairplot(df[['count', 'per_matriculados']])"
   ]
  },
  {
   "cell_type": "code",
   "execution_count": 16,
   "id": "63adb706",
   "metadata": {},
   "outputs": [],
   "source": [
    "import sklearn.cluster as cluster\n",
    "\n",
    "kmeans = cluster.KMeans(n_clusters=5, init='k-means++', random_state=540)\n",
    "kmeans = kmeans.fit(df[['per_matriculados', 'count']])"
   ]
  },
  {
   "cell_type": "code",
   "execution_count": 17,
   "id": "7ee9bc9c",
   "metadata": {},
   "outputs": [
    {
     "data": {
      "text/plain": [
       "array([[  7.9233664 ,  13.22937446],\n",
       "       [ 11.59498736, 177.07413648],\n",
       "       [ 12.29542302, 339.70319001],\n",
       "       [ 10.80686804,  77.58353021],\n",
       "       [ 12.98795181, 676.69477912]])"
      ]
     },
     "execution_count": 17,
     "metadata": {},
     "output_type": "execute_result"
    }
   ],
   "source": [
    "kmeans.cluster_centers_"
   ]
  },
  {
   "cell_type": "code",
   "execution_count": 18,
   "id": "0262d1da",
   "metadata": {},
   "outputs": [],
   "source": [
    "df['Clusters'] = kmeans.labels_"
   ]
  },
  {
   "cell_type": "code",
   "execution_count": 19,
   "id": "4fc4e6a3",
   "metadata": {},
   "outputs": [
    {
     "data": {
      "text/html": [
       "<div>\n",
       "<style scoped>\n",
       "    .dataframe tbody tr th:only-of-type {\n",
       "        vertical-align: middle;\n",
       "    }\n",
       "\n",
       "    .dataframe tbody tr th {\n",
       "        vertical-align: top;\n",
       "    }\n",
       "\n",
       "    .dataframe thead th {\n",
       "        text-align: right;\n",
       "    }\n",
       "</style>\n",
       "<table border=\"1\" class=\"dataframe\">\n",
       "  <thead>\n",
       "    <tr style=\"text-align: right;\">\n",
       "      <th></th>\n",
       "      <th>code</th>\n",
       "      <th>estrato</th>\n",
       "      <th>birth_date</th>\n",
       "      <th>age</th>\n",
       "      <th>sexo</th>\n",
       "      <th>m_grado</th>\n",
       "      <th>m_activo</th>\n",
       "      <th>m_tesis</th>\n",
       "      <th>per_cancelados</th>\n",
       "      <th>per_matriculados</th>\n",
       "      <th>bajos_rendimientos</th>\n",
       "      <th>trans_type_code</th>\n",
       "      <th>count</th>\n",
       "      <th>Clusters</th>\n",
       "    </tr>\n",
       "  </thead>\n",
       "  <tbody>\n",
       "    <tr>\n",
       "      <th>0</th>\n",
       "      <td>198224610</td>\n",
       "      <td>2</td>\n",
       "      <td>1957-01-01</td>\n",
       "      <td>25</td>\n",
       "      <td>M</td>\n",
       "      <td>0</td>\n",
       "      <td>1</td>\n",
       "      <td>0</td>\n",
       "      <td>0</td>\n",
       "      <td>10</td>\n",
       "      <td>0</td>\n",
       "      <td>ISS</td>\n",
       "      <td>30</td>\n",
       "      <td>0</td>\n",
       "    </tr>\n",
       "    <tr>\n",
       "      <th>1</th>\n",
       "      <td>199000484</td>\n",
       "      <td>2</td>\n",
       "      <td>1970-01-01</td>\n",
       "      <td>20</td>\n",
       "      <td>F</td>\n",
       "      <td>1</td>\n",
       "      <td>0</td>\n",
       "      <td>0</td>\n",
       "      <td>0</td>\n",
       "      <td>12</td>\n",
       "      <td>0</td>\n",
       "      <td>ISS</td>\n",
       "      <td>31</td>\n",
       "      <td>0</td>\n",
       "    </tr>\n",
       "    <tr>\n",
       "      <th>2</th>\n",
       "      <td>199000896</td>\n",
       "      <td>2</td>\n",
       "      <td>1947-01-01</td>\n",
       "      <td>43</td>\n",
       "      <td>M</td>\n",
       "      <td>0</td>\n",
       "      <td>0</td>\n",
       "      <td>0</td>\n",
       "      <td>3</td>\n",
       "      <td>28</td>\n",
       "      <td>0</td>\n",
       "      <td>ISS</td>\n",
       "      <td>227</td>\n",
       "      <td>1</td>\n",
       "    </tr>\n",
       "    <tr>\n",
       "      <th>3</th>\n",
       "      <td>199001027</td>\n",
       "      <td>2</td>\n",
       "      <td>1971-06-25</td>\n",
       "      <td>19</td>\n",
       "      <td>F</td>\n",
       "      <td>1</td>\n",
       "      <td>0</td>\n",
       "      <td>0</td>\n",
       "      <td>0</td>\n",
       "      <td>17</td>\n",
       "      <td>0</td>\n",
       "      <td>ISS</td>\n",
       "      <td>34</td>\n",
       "      <td>0</td>\n",
       "    </tr>\n",
       "    <tr>\n",
       "      <th>4</th>\n",
       "      <td>199001038</td>\n",
       "      <td>2</td>\n",
       "      <td>1969-02-03</td>\n",
       "      <td>21</td>\n",
       "      <td>F</td>\n",
       "      <td>1</td>\n",
       "      <td>0</td>\n",
       "      <td>0</td>\n",
       "      <td>1</td>\n",
       "      <td>20</td>\n",
       "      <td>0</td>\n",
       "      <td>ISS</td>\n",
       "      <td>3</td>\n",
       "      <td>0</td>\n",
       "    </tr>\n",
       "  </tbody>\n",
       "</table>\n",
       "</div>"
      ],
      "text/plain": [
       "        code  estrato  birth_date  age sexo  m_grado  m_activo  m_tesis  \\\n",
       "0  198224610        2  1957-01-01   25    M        0         1        0   \n",
       "1  199000484        2  1970-01-01   20    F        1         0        0   \n",
       "2  199000896        2  1947-01-01   43    M        0         0        0   \n",
       "3  199001027        2  1971-06-25   19    F        1         0        0   \n",
       "4  199001038        2  1969-02-03   21    F        1         0        0   \n",
       "\n",
       "   per_cancelados  per_matriculados  bajos_rendimientos trans_type_code  \\\n",
       "0               0                10                   0             ISS   \n",
       "1               0                12                   0             ISS   \n",
       "2               3                28                   0             ISS   \n",
       "3               0                17                   0             ISS   \n",
       "4               1                20                   0             ISS   \n",
       "\n",
       "   count  Clusters  \n",
       "0     30         0  \n",
       "1     31         0  \n",
       "2    227         1  \n",
       "3     34         0  \n",
       "4      3         0  "
      ]
     },
     "execution_count": 19,
     "metadata": {},
     "output_type": "execute_result"
    }
   ],
   "source": [
    "df.head()"
   ]
  },
  {
   "cell_type": "code",
   "execution_count": 20,
   "id": "bc4fd553",
   "metadata": {},
   "outputs": [
    {
     "data": {
      "text/plain": [
       "0    37999\n",
       "3    11852\n",
       "1     4748\n",
       "2     1442\n",
       "4      249\n",
       "Name: Clusters, dtype: int64"
      ]
     },
     "execution_count": 20,
     "metadata": {},
     "output_type": "execute_result"
    }
   ],
   "source": [
    "df['Clusters'].value_counts()"
   ]
  },
  {
   "cell_type": "code",
   "execution_count": 21,
   "id": "89fbb026",
   "metadata": {},
   "outputs": [
    {
     "data": {
      "text/plain": [
       "<AxesSubplot:xlabel='per_matriculados', ylabel='count'>"
      ]
     },
     "execution_count": 21,
     "metadata": {},
     "output_type": "execute_result"
    },
    {
     "data": {
      "image/png": "[encoded data removed]",
      "text/plain": [
       "<Figure size 432x288 with 1 Axes>"
      ]
     },
     "metadata": {
      "needs_background": "light"
     },
     "output_type": "display_data"
    }
   ],
   "source": [
    "# Plot clusters on charts\n",
    "sns.scatterplot(x='per_matriculados', y='count', data=df)"
   ]
  }
 ],
 "metadata": {
  "kernelspec": {
   "display_name": "Python 3 (ipykernel)",
   "language": "python",
   "name": "python3"
  },
  "language_info": {
   "codemirror_mode": {
    "name": "ipython",
    "version": 3
   },
   "file_extension": ".py",
   "mimetype": "text/x-python",
   "name": "python",
   "nbconvert_exporter": "python",
   "pygments_lexer": "ipython3",
   "version": "3.8.13"
  }
 },
 "nbformat": 4,
 "nbformat_minor": 5
}
