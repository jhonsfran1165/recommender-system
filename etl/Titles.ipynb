{
 "cells": [
  {
   "cell_type": "code",
   "execution_count": 15,
   "metadata": {},
   "outputs": [
    {
     "name": "stderr",
     "output_type": "stream",
     "text": [
      "/opt/app/.venv/lib/python3.7/site-packages/ipykernel_launcher.py:11: FutureWarning: The default value of regex will change from True to False in a future version. In addition, single character regular expressions will *not* be treated as literal strings when regex=True.\n",
      "  # This is added back by InteractiveShellApp.init_path()\n"
     ]
    },
    {
     "data": {
      "text/html": [
       "<div>\n",
       "<style scoped>\n",
       "    .dataframe tbody tr th:only-of-type {\n",
       "        vertical-align: middle;\n",
       "    }\n",
       "\n",
       "    .dataframe tbody tr th {\n",
       "        vertical-align: top;\n",
       "    }\n",
       "\n",
       "    .dataframe thead th {\n",
       "        text-align: right;\n",
       "    }\n",
       "</style>\n",
       "<table border=\"1\" class=\"dataframe\">\n",
       "  <thead>\n",
       "    <tr style=\"text-align: right;\">\n",
       "      <th></th>\n",
       "      <th>TITLENO</th>\n",
       "      <th>TITLE</th>\n",
       "      <th>SUBTITLE</th>\n",
       "    </tr>\n",
       "  </thead>\n",
       "  <tbody>\n",
       "    <tr>\n",
       "      <th>0</th>\n",
       "      <td>251</td>\n",
       "      <td>Relaciones en público</td>\n",
       "      <td>Microestudios de orden público</td>\n",
       "    </tr>\n",
       "    <tr>\n",
       "      <th>1</th>\n",
       "      <td>252</td>\n",
       "      <td>The economics of power</td>\n",
       "      <td></td>\n",
       "    </tr>\n",
       "    <tr>\n",
       "      <th>2</th>\n",
       "      <td>1577</td>\n",
       "      <td>Alternating-current machinery</td>\n",
       "      <td></td>\n",
       "    </tr>\n",
       "    <tr>\n",
       "      <th>3</th>\n",
       "      <td>1592</td>\n",
       "      <td>Conversión de energía electromecánica</td>\n",
       "      <td></td>\n",
       "    </tr>\n",
       "    <tr>\n",
       "      <th>4</th>\n",
       "      <td>1994</td>\n",
       "      <td>Regulacion de la fecundidad</td>\n",
       "      <td>Conocimientos, actitudes y practica de la pobl...</td>\n",
       "    </tr>\n",
       "    <tr>\n",
       "      <th>...</th>\n",
       "      <td>...</td>\n",
       "      <td>...</td>\n",
       "      <td>...</td>\n",
       "    </tr>\n",
       "    <tr>\n",
       "      <th>370046</th>\n",
       "      <td>931589</td>\n",
       "      <td>Semiótica, cultura y desarrollo psicológico</td>\n",
       "      <td></td>\n",
       "    </tr>\n",
       "    <tr>\n",
       "      <th>370047</th>\n",
       "      <td>931595</td>\n",
       "      <td>Star trek</td>\n",
       "      <td>el viaje de una generación</td>\n",
       "    </tr>\n",
       "    <tr>\n",
       "      <th>370048</th>\n",
       "      <td>931607</td>\n",
       "      <td>Vermeer</td>\n",
       "      <td></td>\n",
       "    </tr>\n",
       "    <tr>\n",
       "      <th>370049</th>\n",
       "      <td>931608</td>\n",
       "      <td>Vida y arte de Glenn Gould</td>\n",
       "      <td></td>\n",
       "    </tr>\n",
       "    <tr>\n",
       "      <th>370050</th>\n",
       "      <td>931744</td>\n",
       "      <td>Problems in materialism and culture</td>\n",
       "      <td>selected essays</td>\n",
       "    </tr>\n",
       "  </tbody>\n",
       "</table>\n",
       "<p>370051 rows × 3 columns</p>\n",
       "</div>"
      ],
      "text/plain": [
       "       TITLENO                                        TITLE  \\\n",
       "0          251                        Relaciones en público   \n",
       "1          252                       The economics of power   \n",
       "2         1577                Alternating-current machinery   \n",
       "3         1592        Conversión de energía electromecánica   \n",
       "4         1994                  Regulacion de la fecundidad   \n",
       "...        ...                                          ...   \n",
       "370046  931589  Semiótica, cultura y desarrollo psicológico   \n",
       "370047  931595                                    Star trek   \n",
       "370048  931607                                      Vermeer   \n",
       "370049  931608                   Vida y arte de Glenn Gould   \n",
       "370050  931744          Problems in materialism and culture   \n",
       "\n",
       "                                                 SUBTITLE  \n",
       "0                          Microestudios de orden público  \n",
       "1                                                          \n",
       "2                                                          \n",
       "3                                                          \n",
       "4       Conocimientos, actitudes y practica de la pobl...  \n",
       "...                                                   ...  \n",
       "370046                                                     \n",
       "370047                         el viaje de una generación  \n",
       "370048                                                     \n",
       "370049                                                     \n",
       "370050                                    selected essays  \n",
       "\n",
       "[370051 rows x 3 columns]"
      ]
     },
     "execution_count": 15,
     "metadata": {},
     "output_type": "execute_result"
    }
   ],
   "source": [
    "import pandas as pd\n",
    "\n",
    "df = pd.read_csv(\n",
    "        '../data/titles.txt',\n",
    "    encoding = \"ISO-8859-1\",\n",
    "    sep='|',\n",
    "    engine='python',\n",
    "    doublequote=True\n",
    ")\n",
    "\n",
    "df.columns = df.columns.str.replace('|','')\n",
    "df.columns = df.columns.str.replace(\"''\",'|')\n",
    "df.columns = df.columns.str.replace(\"'\",\"\")\n",
    "columns = df.columns.str.split(\"|\")[0]\n",
    "df.columns = [(\"data\")]\n",
    "\n",
    "new_df = df['data'].str.split(pat=\"|\", expand=True)\n",
    "df[columns] = new_df.iloc[:,:3]\n",
    "df = df.iloc[:,1:4]"
   ]
  },
  {
   "cell_type": "code",
   "execution_count": 16,
   "metadata": {
    "scrolled": true
   },
   "outputs": [
    {
     "data": {
      "text/html": [
       "<div>\n",
       "<style scoped>\n",
       "    .dataframe tbody tr th:only-of-type {\n",
       "        vertical-align: middle;\n",
       "    }\n",
       "\n",
       "    .dataframe tbody tr th {\n",
       "        vertical-align: top;\n",
       "    }\n",
       "\n",
       "    .dataframe thead th {\n",
       "        text-align: right;\n",
       "    }\n",
       "</style>\n",
       "<table border=\"1\" class=\"dataframe\">\n",
       "  <thead>\n",
       "    <tr style=\"text-align: right;\">\n",
       "      <th></th>\n",
       "      <th>TITLE</th>\n",
       "      <th>SUBTITLE</th>\n",
       "    </tr>\n",
       "    <tr>\n",
       "      <th>TITLENO</th>\n",
       "      <th></th>\n",
       "      <th></th>\n",
       "    </tr>\n",
       "  </thead>\n",
       "  <tbody>\n",
       "    <tr>\n",
       "      <th>251</th>\n",
       "      <td>Relaciones en público</td>\n",
       "      <td>Microestudios de orden público</td>\n",
       "    </tr>\n",
       "    <tr>\n",
       "      <th>252</th>\n",
       "      <td>The economics of power</td>\n",
       "      <td></td>\n",
       "    </tr>\n",
       "    <tr>\n",
       "      <th>1577</th>\n",
       "      <td>Alternating-current machinery</td>\n",
       "      <td></td>\n",
       "    </tr>\n",
       "    <tr>\n",
       "      <th>1592</th>\n",
       "      <td>Conversión de energía electromecánica</td>\n",
       "      <td></td>\n",
       "    </tr>\n",
       "    <tr>\n",
       "      <th>1994</th>\n",
       "      <td>Regulacion de la fecundidad</td>\n",
       "      <td>Conocimientos, actitudes y practica de la pobl...</td>\n",
       "    </tr>\n",
       "    <tr>\n",
       "      <th>...</th>\n",
       "      <td>...</td>\n",
       "      <td>...</td>\n",
       "    </tr>\n",
       "    <tr>\n",
       "      <th>931589</th>\n",
       "      <td>Semiótica, cultura y desarrollo psicológico</td>\n",
       "      <td></td>\n",
       "    </tr>\n",
       "    <tr>\n",
       "      <th>931595</th>\n",
       "      <td>Star trek</td>\n",
       "      <td>el viaje de una generación</td>\n",
       "    </tr>\n",
       "    <tr>\n",
       "      <th>931607</th>\n",
       "      <td>Vermeer</td>\n",
       "      <td></td>\n",
       "    </tr>\n",
       "    <tr>\n",
       "      <th>931608</th>\n",
       "      <td>Vida y arte de Glenn Gould</td>\n",
       "      <td></td>\n",
       "    </tr>\n",
       "    <tr>\n",
       "      <th>931744</th>\n",
       "      <td>Problems in materialism and culture</td>\n",
       "      <td>selected essays</td>\n",
       "    </tr>\n",
       "  </tbody>\n",
       "</table>\n",
       "<p>370051 rows × 2 columns</p>\n",
       "</div>"
      ],
      "text/plain": [
       "                                               TITLE  \\\n",
       "TITLENO                                                \n",
       "251                            Relaciones en público   \n",
       "252                           The economics of power   \n",
       "1577                   Alternating-current machinery   \n",
       "1592           Conversión de energía electromecánica   \n",
       "1994                     Regulacion de la fecundidad   \n",
       "...                                              ...   \n",
       "931589   Semiótica, cultura y desarrollo psicológico   \n",
       "931595                                     Star trek   \n",
       "931607                                       Vermeer   \n",
       "931608                    Vida y arte de Glenn Gould   \n",
       "931744           Problems in materialism and culture   \n",
       "\n",
       "                                                  SUBTITLE  \n",
       "TITLENO                                                     \n",
       "251                         Microestudios de orden público  \n",
       "252                                                         \n",
       "1577                                                        \n",
       "1592                                                        \n",
       "1994     Conocimientos, actitudes y practica de la pobl...  \n",
       "...                                                    ...  \n",
       "931589                                                      \n",
       "931595                          el viaje de una generación  \n",
       "931607                                                      \n",
       "931608                                                      \n",
       "931744                                     selected essays  \n",
       "\n",
       "[370051 rows x 2 columns]"
      ]
     },
     "execution_count": 16,
     "metadata": {},
     "output_type": "execute_result"
    }
   ],
   "source": [
    "df.set_index('TITLENO', inplace=True)\n",
    "df.sort_values('TITLENO')\n",
    "df"
   ]
  },
  {
   "cell_type": "code",
   "execution_count": 17,
   "metadata": {},
   "outputs": [
    {
     "data": {
      "text/plain": [
       "TITLE       object\n",
       "SUBTITLE    object\n",
       "dtype: object"
      ]
     },
     "execution_count": 17,
     "metadata": {},
     "output_type": "execute_result"
    }
   ],
   "source": [
    "df.dtypes"
   ]
  },
  {
   "cell_type": "code",
   "execution_count": 18,
   "metadata": {},
   "outputs": [
    {
     "data": {
      "text/html": [
       "<div>\n",
       "<style scoped>\n",
       "    .dataframe tbody tr th:only-of-type {\n",
       "        vertical-align: middle;\n",
       "    }\n",
       "\n",
       "    .dataframe tbody tr th {\n",
       "        vertical-align: top;\n",
       "    }\n",
       "\n",
       "    .dataframe thead th {\n",
       "        text-align: right;\n",
       "    }\n",
       "</style>\n",
       "<table border=\"1\" class=\"dataframe\">\n",
       "  <thead>\n",
       "    <tr style=\"text-align: right;\">\n",
       "      <th></th>\n",
       "      <th>TITLE</th>\n",
       "      <th>SUBTITLE</th>\n",
       "    </tr>\n",
       "  </thead>\n",
       "  <tbody>\n",
       "    <tr>\n",
       "      <th>count</th>\n",
       "      <td>370051</td>\n",
       "      <td>370051</td>\n",
       "    </tr>\n",
       "    <tr>\n",
       "      <th>unique</th>\n",
       "      <td>324176</td>\n",
       "      <td>80071</td>\n",
       "    </tr>\n",
       "    <tr>\n",
       "      <th>top</th>\n",
       "      <td>Memorias</td>\n",
       "      <td></td>\n",
       "    </tr>\n",
       "    <tr>\n",
       "      <th>freq</th>\n",
       "      <td>152</td>\n",
       "      <td>280578</td>\n",
       "    </tr>\n",
       "  </tbody>\n",
       "</table>\n",
       "</div>"
      ],
      "text/plain": [
       "           TITLE SUBTITLE\n",
       "count     370051   370051\n",
       "unique    324176    80071\n",
       "top     Memorias         \n",
       "freq         152   280578"
      ]
     },
     "execution_count": 18,
     "metadata": {},
     "output_type": "execute_result"
    }
   ],
   "source": [
    "df.describe()"
   ]
  },
  {
   "cell_type": "markdown",
   "metadata": {},
   "source": [
    "# Cleaning Data\n",
    "\n",
    "##### https://towardsdatascience.com/how-to-check-for-missing-values-in-pandas-d2749e45a345\n"
   ]
  },
  {
   "cell_type": "code",
   "execution_count": 19,
   "metadata": {},
   "outputs": [
    {
     "data": {
      "text/plain": [
       "False"
      ]
     },
     "execution_count": 19,
     "metadata": {},
     "output_type": "execute_result"
    }
   ],
   "source": [
    "df.isna().any().any()"
   ]
  },
  {
   "cell_type": "code",
   "execution_count": 20,
   "metadata": {},
   "outputs": [
    {
     "data": {
      "text/plain": [
       "False"
      ]
     },
     "execution_count": 20,
     "metadata": {},
     "output_type": "execute_result"
    }
   ],
   "source": [
    "df.isnull().any().any()"
   ]
  },
  {
   "cell_type": "code",
   "execution_count": 21,
   "metadata": {},
   "outputs": [
    {
     "data": {
      "text/plain": [
       "0"
      ]
     },
     "execution_count": 21,
     "metadata": {},
     "output_type": "execute_result"
    }
   ],
   "source": [
    "df.isna().sum().sum()"
   ]
  },
  {
   "cell_type": "code",
   "execution_count": 22,
   "metadata": {},
   "outputs": [
    {
     "data": {
      "text/plain": [
       "TITLE       0.0\n",
       "SUBTITLE    0.0\n",
       "dtype: float64"
      ]
     },
     "execution_count": 22,
     "metadata": {},
     "output_type": "execute_result"
    }
   ],
   "source": [
    "df.isna().sum()/(len(df))*100"
   ]
  },
  {
   "cell_type": "code",
   "execution_count": 23,
   "metadata": {},
   "outputs": [
    {
     "data": {
      "text/plain": [
       "Index([], dtype='object')"
      ]
     },
     "execution_count": 23,
     "metadata": {},
     "output_type": "execute_result"
    }
   ],
   "source": [
    "df.loc[:, df.isnull().any()].columns"
   ]
  },
  {
   "cell_type": "code",
   "execution_count": 26,
   "metadata": {},
   "outputs": [
    {
     "data": {
      "text/html": [
       "<div>\n",
       "<style scoped>\n",
       "    .dataframe tbody tr th:only-of-type {\n",
       "        vertical-align: middle;\n",
       "    }\n",
       "\n",
       "    .dataframe tbody tr th {\n",
       "        vertical-align: top;\n",
       "    }\n",
       "\n",
       "    .dataframe thead th {\n",
       "        text-align: right;\n",
       "    }\n",
       "</style>\n",
       "<table border=\"1\" class=\"dataframe\">\n",
       "  <thead>\n",
       "    <tr style=\"text-align: right;\">\n",
       "      <th></th>\n",
       "      <th>TITLE</th>\n",
       "      <th>SUBTITLE</th>\n",
       "    </tr>\n",
       "    <tr>\n",
       "      <th>TITLENO</th>\n",
       "      <th></th>\n",
       "      <th></th>\n",
       "    </tr>\n",
       "  </thead>\n",
       "  <tbody>\n",
       "    <tr>\n",
       "      <th>251</th>\n",
       "      <td>Relaciones en público</td>\n",
       "      <td>Microestudios de orden público</td>\n",
       "    </tr>\n",
       "    <tr>\n",
       "      <th>252</th>\n",
       "      <td>The economics of power</td>\n",
       "      <td></td>\n",
       "    </tr>\n",
       "    <tr>\n",
       "      <th>1577</th>\n",
       "      <td>Alternating-current machinery</td>\n",
       "      <td></td>\n",
       "    </tr>\n",
       "    <tr>\n",
       "      <th>1592</th>\n",
       "      <td>Conversión de energía electromecánica</td>\n",
       "      <td></td>\n",
       "    </tr>\n",
       "    <tr>\n",
       "      <th>1994</th>\n",
       "      <td>Regulacion de la fecundidad</td>\n",
       "      <td>Conocimientos, actitudes y practica de la pobl...</td>\n",
       "    </tr>\n",
       "    <tr>\n",
       "      <th>...</th>\n",
       "      <td>...</td>\n",
       "      <td>...</td>\n",
       "    </tr>\n",
       "    <tr>\n",
       "      <th>931589</th>\n",
       "      <td>Semiótica, cultura y desarrollo psicológico</td>\n",
       "      <td></td>\n",
       "    </tr>\n",
       "    <tr>\n",
       "      <th>931595</th>\n",
       "      <td>Star trek</td>\n",
       "      <td>el viaje de una generación</td>\n",
       "    </tr>\n",
       "    <tr>\n",
       "      <th>931607</th>\n",
       "      <td>Vermeer</td>\n",
       "      <td></td>\n",
       "    </tr>\n",
       "    <tr>\n",
       "      <th>931608</th>\n",
       "      <td>Vida y arte de Glenn Gould</td>\n",
       "      <td></td>\n",
       "    </tr>\n",
       "    <tr>\n",
       "      <th>931744</th>\n",
       "      <td>Problems in materialism and culture</td>\n",
       "      <td>selected essays</td>\n",
       "    </tr>\n",
       "  </tbody>\n",
       "</table>\n",
       "<p>370051 rows × 2 columns</p>\n",
       "</div>"
      ],
      "text/plain": [
       "                                               TITLE  \\\n",
       "TITLENO                                                \n",
       "251                            Relaciones en público   \n",
       "252                           The economics of power   \n",
       "1577                   Alternating-current machinery   \n",
       "1592           Conversión de energía electromecánica   \n",
       "1994                     Regulacion de la fecundidad   \n",
       "...                                              ...   \n",
       "931589   Semiótica, cultura y desarrollo psicológico   \n",
       "931595                                     Star trek   \n",
       "931607                                       Vermeer   \n",
       "931608                    Vida y arte de Glenn Gould   \n",
       "931744           Problems in materialism and culture   \n",
       "\n",
       "                                                  SUBTITLE  \n",
       "TITLENO                                                     \n",
       "251                         Microestudios de orden público  \n",
       "252                                                         \n",
       "1577                                                        \n",
       "1592                                                        \n",
       "1994     Conocimientos, actitudes y practica de la pobl...  \n",
       "...                                                    ...  \n",
       "931589                                                      \n",
       "931595                          el viaje de una generación  \n",
       "931607                                                      \n",
       "931608                                                      \n",
       "931744                                     selected essays  \n",
       "\n",
       "[370051 rows x 2 columns]"
      ]
     },
     "execution_count": 26,
     "metadata": {},
     "output_type": "execute_result"
    }
   ],
   "source": [
    "df.dropna(subset=[\"TITLE\"])"
   ]
  },
  {
   "cell_type": "markdown",
   "metadata": {},
   "source": [
    "# Save data to another file"
   ]
  },
  {
   "cell_type": "code",
   "execution_count": 27,
   "metadata": {},
   "outputs": [],
   "source": [
    "df.to_csv('titles_modified.csv', index=True, sep='*')"
   ]
  }
 ],
 "metadata": {
  "kernelspec": {
   "display_name": "Python 3 (ipykernel)",
   "language": "python",
   "name": "python3"
  },
  "language_info": {
   "codemirror_mode": {
    "name": "ipython",
    "version": 3
   },
   "file_extension": ".py",
   "mimetype": "text/x-python",
   "name": "python",
   "nbconvert_exporter": "python",
   "pygments_lexer": "ipython3",
   "version": "3.8.13"
  }
 },
 "nbformat": 4,
 "nbformat_minor": 4
}
