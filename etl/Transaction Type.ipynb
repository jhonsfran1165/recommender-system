{
 "cells": [
  {
   "cell_type": "code",
   "execution_count": 84,
   "metadata": {},
   "outputs": [
    {
     "name": "stderr",
     "output_type": "stream",
     "text": [
      "/opt/app/.venv/lib/python3.7/site-packages/ipykernel_launcher.py:10: FutureWarning: The default value of regex will change from True to False in a future version. In addition, single character regular expressions will *not* be treated as literal strings when regex=True.\n",
      "  # Remove the CWD from sys.path while we load stuff.\n"
     ]
    },
    {
     "data": {
      "text/html": [
       "<div>\n",
       "<style scoped>\n",
       "    .dataframe tbody tr th:only-of-type {\n",
       "        vertical-align: middle;\n",
       "    }\n",
       "\n",
       "    .dataframe tbody tr th {\n",
       "        vertical-align: top;\n",
       "    }\n",
       "\n",
       "    .dataframe thead th {\n",
       "        text-align: right;\n",
       "    }\n",
       "</style>\n",
       "<table border=\"1\" class=\"dataframe\">\n",
       "  <thead>\n",
       "    <tr style=\"text-align: right;\">\n",
       "      <th></th>\n",
       "      <th>ctrantp</th>\n",
       "      <th>ctrantpld</th>\n",
       "    </tr>\n",
       "  </thead>\n",
       "  <tbody>\n",
       "    <tr>\n",
       "      <th>0</th>\n",
       "      <td>TRANF</td>\n",
       "      <td>Transferencia Préstamo Desde</td>\n",
       "    </tr>\n",
       "    <tr>\n",
       "      <th>1</th>\n",
       "      <td>TRANT</td>\n",
       "      <td>Transferencia Préstamo Para</td>\n",
       "    </tr>\n",
       "    <tr>\n",
       "      <th>2</th>\n",
       "      <td>INT</td>\n",
       "      <td>Introd. Libro al Sistema Circulación</td>\n",
       "    </tr>\n",
       "    <tr>\n",
       "      <th>3</th>\n",
       "      <td>HLD</td>\n",
       "      <td>Material Retenido</td>\n",
       "    </tr>\n",
       "    <tr>\n",
       "      <th>4</th>\n",
       "      <td>WDR</td>\n",
       "      <td>Retire libro de Circulación</td>\n",
       "    </tr>\n",
       "    <tr>\n",
       "      <th>5</th>\n",
       "      <td>ISS</td>\n",
       "      <td>Préstamo del Libro al Usuario</td>\n",
       "    </tr>\n",
       "    <tr>\n",
       "      <th>6</th>\n",
       "      <td>RET</td>\n",
       "      <td>Devolución</td>\n",
       "    </tr>\n",
       "    <tr>\n",
       "      <th>7</th>\n",
       "      <td>REN</td>\n",
       "      <td>Renovación Presencial</td>\n",
       "    </tr>\n",
       "    <tr>\n",
       "      <th>8</th>\n",
       "      <td>COL</td>\n",
       "      <td>Recoger Reserva</td>\n",
       "    </tr>\n",
       "    <tr>\n",
       "      <th>9</th>\n",
       "      <td>RES</td>\n",
       "      <td>Reservación</td>\n",
       "    </tr>\n",
       "    <tr>\n",
       "      <th>10</th>\n",
       "      <td>CAN</td>\n",
       "      <td>Reserva Cancelada</td>\n",
       "    </tr>\n",
       "    <tr>\n",
       "      <th>11</th>\n",
       "      <td>NON</td>\n",
       "      <td>Préstamo en Sala</td>\n",
       "    </tr>\n",
       "    <tr>\n",
       "      <th>12</th>\n",
       "      <td>RSA</td>\n",
       "      <td>Reserva Cancelada Satisfecha</td>\n",
       "    </tr>\n",
       "    <tr>\n",
       "      <th>13</th>\n",
       "      <td>IINTR</td>\n",
       "      <td>Préstamo en Tránsito</td>\n",
       "    </tr>\n",
       "    <tr>\n",
       "      <th>14</th>\n",
       "      <td>RINTR</td>\n",
       "      <td>Devolución en Tránsito</td>\n",
       "    </tr>\n",
       "    <tr>\n",
       "      <th>15</th>\n",
       "      <td>USREN</td>\n",
       "      <td>Renovación No Presencial</td>\n",
       "    </tr>\n",
       "    <tr>\n",
       "      <th>16</th>\n",
       "      <td>RETCR</td>\n",
       "      <td>Retorno como Perdido</td>\n",
       "    </tr>\n",
       "    <tr>\n",
       "      <th>17</th>\n",
       "      <td>PLOAN</td>\n",
       "      <td>Péstamo Permanente</td>\n",
       "    </tr>\n",
       "    <tr>\n",
       "      <th>18</th>\n",
       "      <td>PLNC</td>\n",
       "      <td>Recoger en Préstamo Permanente</td>\n",
       "    </tr>\n",
       "  </tbody>\n",
       "</table>\n",
       "</div>"
      ],
      "text/plain": [
       "   ctrantp                             ctrantpld\n",
       "0    TRANF          Transferencia Préstamo Desde\n",
       "1    TRANT           Transferencia Préstamo Para\n",
       "2      INT  Introd. Libro al Sistema Circulación\n",
       "3      HLD                     Material Retenido\n",
       "4      WDR           Retire libro de Circulación\n",
       "5      ISS         Préstamo del Libro al Usuario\n",
       "6      RET                            Devolución\n",
       "7      REN                 Renovación Presencial\n",
       "8      COL                       Recoger Reserva\n",
       "9      RES                           Reservación\n",
       "10     CAN                     Reserva Cancelada\n",
       "11     NON                      Préstamo en Sala\n",
       "12     RSA          Reserva Cancelada Satisfecha\n",
       "13   IINTR                  Préstamo en Tránsito\n",
       "14   RINTR                Devolución en Tránsito\n",
       "15   USREN              Renovación No Presencial\n",
       "16   RETCR                  Retorno como Perdido\n",
       "17   PLOAN                    Péstamo Permanente\n",
       "18    PLNC        Recoger en Préstamo Permanente"
      ]
     },
     "execution_count": 84,
     "metadata": {},
     "output_type": "execute_result"
    }
   ],
   "source": [
    "import pandas as pd\n",
    "\n",
    "df = pd.read_csv(\n",
    "        '../data/ctrantps.txt',\n",
    "    engine='python',\n",
    "    doublequote=True\n",
    ")\n",
    "\n",
    "\n",
    "df.columns = df.columns.str.replace('|','')\n",
    "df.columns = df.columns.str.replace(\"''\",'|')\n",
    "df.columns = df.columns.str.replace(\"'\",\"\")\n",
    "\n",
    "columns = df.columns.str.split(\"|\")[0]\n",
    "df.columns = [(\"data\")]\n",
    "\n",
    "new_df = df['data'].str.split(pat=\"|\", expand=True)\n",
    "df[columns] = new_df.iloc[:,:2]\n",
    "df = df.iloc[:,1:3]\n",
    "df"
   ]
  },
  {
   "cell_type": "code",
   "execution_count": 85,
   "metadata": {
    "scrolled": true
   },
   "outputs": [
    {
     "data": {
      "text/html": [
       "<div>\n",
       "<style scoped>\n",
       "    .dataframe tbody tr th:only-of-type {\n",
       "        vertical-align: middle;\n",
       "    }\n",
       "\n",
       "    .dataframe tbody tr th {\n",
       "        vertical-align: top;\n",
       "    }\n",
       "\n",
       "    .dataframe thead th {\n",
       "        text-align: right;\n",
       "    }\n",
       "</style>\n",
       "<table border=\"1\" class=\"dataframe\">\n",
       "  <thead>\n",
       "    <tr style=\"text-align: right;\">\n",
       "      <th></th>\n",
       "      <th>ctrantpld</th>\n",
       "    </tr>\n",
       "    <tr>\n",
       "      <th>ctrantp</th>\n",
       "      <th></th>\n",
       "    </tr>\n",
       "  </thead>\n",
       "  <tbody>\n",
       "    <tr>\n",
       "      <th>TRANF</th>\n",
       "      <td>Transferencia Préstamo Desde</td>\n",
       "    </tr>\n",
       "    <tr>\n",
       "      <th>TRANT</th>\n",
       "      <td>Transferencia Préstamo Para</td>\n",
       "    </tr>\n",
       "    <tr>\n",
       "      <th>INT</th>\n",
       "      <td>Introd. Libro al Sistema Circulación</td>\n",
       "    </tr>\n",
       "    <tr>\n",
       "      <th>HLD</th>\n",
       "      <td>Material Retenido</td>\n",
       "    </tr>\n",
       "    <tr>\n",
       "      <th>WDR</th>\n",
       "      <td>Retire libro de Circulación</td>\n",
       "    </tr>\n",
       "    <tr>\n",
       "      <th>ISS</th>\n",
       "      <td>Préstamo del Libro al Usuario</td>\n",
       "    </tr>\n",
       "    <tr>\n",
       "      <th>RET</th>\n",
       "      <td>Devolución</td>\n",
       "    </tr>\n",
       "    <tr>\n",
       "      <th>REN</th>\n",
       "      <td>Renovación Presencial</td>\n",
       "    </tr>\n",
       "    <tr>\n",
       "      <th>COL</th>\n",
       "      <td>Recoger Reserva</td>\n",
       "    </tr>\n",
       "    <tr>\n",
       "      <th>RES</th>\n",
       "      <td>Reservación</td>\n",
       "    </tr>\n",
       "    <tr>\n",
       "      <th>CAN</th>\n",
       "      <td>Reserva Cancelada</td>\n",
       "    </tr>\n",
       "    <tr>\n",
       "      <th>NON</th>\n",
       "      <td>Préstamo en Sala</td>\n",
       "    </tr>\n",
       "    <tr>\n",
       "      <th>RSA</th>\n",
       "      <td>Reserva Cancelada Satisfecha</td>\n",
       "    </tr>\n",
       "    <tr>\n",
       "      <th>IINTR</th>\n",
       "      <td>Préstamo en Tránsito</td>\n",
       "    </tr>\n",
       "    <tr>\n",
       "      <th>RINTR</th>\n",
       "      <td>Devolución en Tránsito</td>\n",
       "    </tr>\n",
       "    <tr>\n",
       "      <th>USREN</th>\n",
       "      <td>Renovación No Presencial</td>\n",
       "    </tr>\n",
       "    <tr>\n",
       "      <th>RETCR</th>\n",
       "      <td>Retorno como Perdido</td>\n",
       "    </tr>\n",
       "    <tr>\n",
       "      <th>PLOAN</th>\n",
       "      <td>Péstamo Permanente</td>\n",
       "    </tr>\n",
       "    <tr>\n",
       "      <th>PLNC</th>\n",
       "      <td>Recoger en Préstamo Permanente</td>\n",
       "    </tr>\n",
       "  </tbody>\n",
       "</table>\n",
       "</div>"
      ],
      "text/plain": [
       "                                    ctrantpld\n",
       "ctrantp                                      \n",
       "TRANF            Transferencia Préstamo Desde\n",
       "TRANT             Transferencia Préstamo Para\n",
       "INT      Introd. Libro al Sistema Circulación\n",
       "HLD                         Material Retenido\n",
       "WDR               Retire libro de Circulación\n",
       "ISS             Préstamo del Libro al Usuario\n",
       "RET                                Devolución\n",
       "REN                     Renovación Presencial\n",
       "COL                           Recoger Reserva\n",
       "RES                               Reservación\n",
       "CAN                         Reserva Cancelada\n",
       "NON                          Préstamo en Sala\n",
       "RSA              Reserva Cancelada Satisfecha\n",
       "IINTR                    Préstamo en Tránsito\n",
       "RINTR                  Devolución en Tránsito\n",
       "USREN                Renovación No Presencial\n",
       "RETCR                    Retorno como Perdido\n",
       "PLOAN                      Péstamo Permanente\n",
       "PLNC           Recoger en Préstamo Permanente"
      ]
     },
     "execution_count": 85,
     "metadata": {},
     "output_type": "execute_result"
    }
   ],
   "source": [
    "df.set_index('ctrantp', inplace=True)\n",
    "df.sort_values('ctrantp')\n",
    "df"
   ]
  },
  {
   "cell_type": "code",
   "execution_count": 86,
   "metadata": {},
   "outputs": [
    {
     "data": {
      "text/plain": [
       "ctrantpld    object\n",
       "dtype: object"
      ]
     },
     "execution_count": 86,
     "metadata": {},
     "output_type": "execute_result"
    }
   ],
   "source": [
    "df.dtypes"
   ]
  },
  {
   "cell_type": "code",
   "execution_count": 87,
   "metadata": {},
   "outputs": [
    {
     "data": {
      "text/html": [
       "<div>\n",
       "<style scoped>\n",
       "    .dataframe tbody tr th:only-of-type {\n",
       "        vertical-align: middle;\n",
       "    }\n",
       "\n",
       "    .dataframe tbody tr th {\n",
       "        vertical-align: top;\n",
       "    }\n",
       "\n",
       "    .dataframe thead th {\n",
       "        text-align: right;\n",
       "    }\n",
       "</style>\n",
       "<table border=\"1\" class=\"dataframe\">\n",
       "  <thead>\n",
       "    <tr style=\"text-align: right;\">\n",
       "      <th></th>\n",
       "      <th>ctrantpld</th>\n",
       "    </tr>\n",
       "  </thead>\n",
       "  <tbody>\n",
       "    <tr>\n",
       "      <th>count</th>\n",
       "      <td>19</td>\n",
       "    </tr>\n",
       "    <tr>\n",
       "      <th>unique</th>\n",
       "      <td>19</td>\n",
       "    </tr>\n",
       "    <tr>\n",
       "      <th>top</th>\n",
       "      <td>Transferencia Préstamo Desde</td>\n",
       "    </tr>\n",
       "    <tr>\n",
       "      <th>freq</th>\n",
       "      <td>1</td>\n",
       "    </tr>\n",
       "  </tbody>\n",
       "</table>\n",
       "</div>"
      ],
      "text/plain": [
       "                           ctrantpld\n",
       "count                             19\n",
       "unique                            19\n",
       "top     Transferencia Préstamo Desde\n",
       "freq                               1"
      ]
     },
     "execution_count": 87,
     "metadata": {},
     "output_type": "execute_result"
    }
   ],
   "source": [
    "df.describe()"
   ]
  },
  {
   "cell_type": "markdown",
   "metadata": {},
   "source": [
    "# Cleaning Data\n",
    "\n",
    "##### https://towardsdatascience.com/how-to-check-for-missing-values-in-pandas-d2749e45a345\n"
   ]
  },
  {
   "cell_type": "code",
   "execution_count": 88,
   "metadata": {},
   "outputs": [
    {
     "data": {
      "text/plain": [
       "False"
      ]
     },
     "execution_count": 88,
     "metadata": {},
     "output_type": "execute_result"
    }
   ],
   "source": [
    "df.isna().any().any()"
   ]
  },
  {
   "cell_type": "code",
   "execution_count": 89,
   "metadata": {},
   "outputs": [
    {
     "data": {
      "text/plain": [
       "False"
      ]
     },
     "execution_count": 89,
     "metadata": {},
     "output_type": "execute_result"
    }
   ],
   "source": [
    "df.isnull().any().any()"
   ]
  },
  {
   "cell_type": "code",
   "execution_count": 90,
   "metadata": {},
   "outputs": [
    {
     "data": {
      "text/plain": [
       "0"
      ]
     },
     "execution_count": 90,
     "metadata": {},
     "output_type": "execute_result"
    }
   ],
   "source": [
    "df.isna().sum().sum()"
   ]
  },
  {
   "cell_type": "code",
   "execution_count": 91,
   "metadata": {},
   "outputs": [
    {
     "data": {
      "text/plain": [
       "ctrantpld    0.0\n",
       "dtype: float64"
      ]
     },
     "execution_count": 91,
     "metadata": {},
     "output_type": "execute_result"
    }
   ],
   "source": [
    "df.isna().sum()/(len(df))*100"
   ]
  },
  {
   "cell_type": "code",
   "execution_count": 92,
   "metadata": {},
   "outputs": [
    {
     "data": {
      "text/plain": [
       "Index([], dtype='object')"
      ]
     },
     "execution_count": 92,
     "metadata": {},
     "output_type": "execute_result"
    }
   ],
   "source": [
    "df.loc[:, df.isnull().any()].columns"
   ]
  },
  {
   "cell_type": "code",
   "execution_count": 93,
   "metadata": {},
   "outputs": [
    {
     "data": {
      "text/html": [
       "<div>\n",
       "<style scoped>\n",
       "    .dataframe tbody tr th:only-of-type {\n",
       "        vertical-align: middle;\n",
       "    }\n",
       "\n",
       "    .dataframe tbody tr th {\n",
       "        vertical-align: top;\n",
       "    }\n",
       "\n",
       "    .dataframe thead th {\n",
       "        text-align: right;\n",
       "    }\n",
       "</style>\n",
       "<table border=\"1\" class=\"dataframe\">\n",
       "  <thead>\n",
       "    <tr style=\"text-align: right;\">\n",
       "      <th></th>\n",
       "      <th>ctrantpld</th>\n",
       "    </tr>\n",
       "    <tr>\n",
       "      <th>ctrantp</th>\n",
       "      <th></th>\n",
       "    </tr>\n",
       "  </thead>\n",
       "  <tbody>\n",
       "    <tr>\n",
       "      <th>TRANF</th>\n",
       "      <td>Transferencia Préstamo Desde</td>\n",
       "    </tr>\n",
       "    <tr>\n",
       "      <th>TRANT</th>\n",
       "      <td>Transferencia Préstamo Para</td>\n",
       "    </tr>\n",
       "    <tr>\n",
       "      <th>INT</th>\n",
       "      <td>Introd. Libro al Sistema Circulación</td>\n",
       "    </tr>\n",
       "    <tr>\n",
       "      <th>HLD</th>\n",
       "      <td>Material Retenido</td>\n",
       "    </tr>\n",
       "    <tr>\n",
       "      <th>WDR</th>\n",
       "      <td>Retire libro de Circulación</td>\n",
       "    </tr>\n",
       "    <tr>\n",
       "      <th>ISS</th>\n",
       "      <td>Préstamo del Libro al Usuario</td>\n",
       "    </tr>\n",
       "    <tr>\n",
       "      <th>RET</th>\n",
       "      <td>Devolución</td>\n",
       "    </tr>\n",
       "    <tr>\n",
       "      <th>REN</th>\n",
       "      <td>Renovación Presencial</td>\n",
       "    </tr>\n",
       "    <tr>\n",
       "      <th>COL</th>\n",
       "      <td>Recoger Reserva</td>\n",
       "    </tr>\n",
       "    <tr>\n",
       "      <th>RES</th>\n",
       "      <td>Reservación</td>\n",
       "    </tr>\n",
       "    <tr>\n",
       "      <th>CAN</th>\n",
       "      <td>Reserva Cancelada</td>\n",
       "    </tr>\n",
       "    <tr>\n",
       "      <th>NON</th>\n",
       "      <td>Préstamo en Sala</td>\n",
       "    </tr>\n",
       "    <tr>\n",
       "      <th>RSA</th>\n",
       "      <td>Reserva Cancelada Satisfecha</td>\n",
       "    </tr>\n",
       "    <tr>\n",
       "      <th>IINTR</th>\n",
       "      <td>Préstamo en Tránsito</td>\n",
       "    </tr>\n",
       "    <tr>\n",
       "      <th>RINTR</th>\n",
       "      <td>Devolución en Tránsito</td>\n",
       "    </tr>\n",
       "    <tr>\n",
       "      <th>USREN</th>\n",
       "      <td>Renovación No Presencial</td>\n",
       "    </tr>\n",
       "    <tr>\n",
       "      <th>RETCR</th>\n",
       "      <td>Retorno como Perdido</td>\n",
       "    </tr>\n",
       "    <tr>\n",
       "      <th>PLOAN</th>\n",
       "      <td>Péstamo Permanente</td>\n",
       "    </tr>\n",
       "    <tr>\n",
       "      <th>PLNC</th>\n",
       "      <td>Recoger en Préstamo Permanente</td>\n",
       "    </tr>\n",
       "  </tbody>\n",
       "</table>\n",
       "</div>"
      ],
      "text/plain": [
       "                                    ctrantpld\n",
       "ctrantp                                      \n",
       "TRANF            Transferencia Préstamo Desde\n",
       "TRANT             Transferencia Préstamo Para\n",
       "INT      Introd. Libro al Sistema Circulación\n",
       "HLD                         Material Retenido\n",
       "WDR               Retire libro de Circulación\n",
       "ISS             Préstamo del Libro al Usuario\n",
       "RET                                Devolución\n",
       "REN                     Renovación Presencial\n",
       "COL                           Recoger Reserva\n",
       "RES                               Reservación\n",
       "CAN                         Reserva Cancelada\n",
       "NON                          Préstamo en Sala\n",
       "RSA              Reserva Cancelada Satisfecha\n",
       "IINTR                    Préstamo en Tránsito\n",
       "RINTR                  Devolución en Tránsito\n",
       "USREN                Renovación No Presencial\n",
       "RETCR                    Retorno como Perdido\n",
       "PLOAN                      Péstamo Permanente\n",
       "PLNC           Recoger en Préstamo Permanente"
      ]
     },
     "execution_count": 93,
     "metadata": {},
     "output_type": "execute_result"
    }
   ],
   "source": [
    "df.dropna(subset=[\"ctrantpld\"])"
   ]
  },
  {
   "cell_type": "markdown",
   "metadata": {},
   "source": [
    "# Save data to another file"
   ]
  },
  {
   "cell_type": "code",
   "execution_count": 94,
   "metadata": {},
   "outputs": [],
   "source": [
    "df.to_csv('transaction_type_modified.csv', index=True, sep='*')"
   ]
  }
 ],
 "metadata": {
  "kernelspec": {
   "display_name": "Python 3 (ipykernel)",
   "language": "python",
   "name": "python3"
  },
  "language_info": {
   "codemirror_mode": {
    "name": "ipython",
    "version": 3
   },
   "file_extension": ".py",
   "mimetype": "text/x-python",
   "name": "python",
   "nbconvert_exporter": "python",
   "pygments_lexer": "ipython3",
   "version": "3.7.12"
  }
 },
 "nbformat": 4,
 "nbformat_minor": 4
}
