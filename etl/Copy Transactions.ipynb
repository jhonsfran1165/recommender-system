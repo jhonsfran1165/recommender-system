{
 "cells": [
  {
   "cell_type": "code",
   "execution_count": 27,
   "id": "56bf84b2",
   "metadata": {},
   "outputs": [],
   "source": [
    "import pandas as pd\n",
    "\n",
    "df = pd.read_csv(\n",
    "        '../data/copytrans.txt',\n",
    "    encoding = \"ISO-8859-1\",\n",
    "    chunksize=20000,\n",
    "    engine='python',\n",
    "    doublequote=True,\n",
    ")\n",
    "\n",
    "pd.set_option('display.max_columns', None)\n",
    "pd.set_option('display.max_rows', None)"
   ]
  },
  {
   "cell_type": "code",
   "execution_count": 28,
   "id": "64ec33f3",
   "metadata": {},
   "outputs": [],
   "source": [
    "chunk_list = []  # append each chunk df here \n",
    "\n",
    "def chunk_preprocessing(chuck):\n",
    "    chuck.replace(\n",
    "        to_replace='INSERT INTO copytrans \\(trandate, ctrantp,borbarcode, titleno,copyno\\) VALUES\\( ',\n",
    "        value='',\n",
    "        inplace=True,\n",
    "        regex=True\n",
    "    )\n",
    "    \n",
    "    return chuck\n",
    "\n",
    "# Each chunk is in df format\n",
    "for chunk in df:  \n",
    "    # perform data filtering \n",
    "    chunk_filter = chunk_preprocessing(chunk)\n",
    "    \n",
    "    # Once the data filtering is done, append the chunk to list\n",
    "    # chunk_list.append(chunk_filter)\n",
    "    \n",
    "    # for now just add the chunk part\n",
    "    chunk_list.append(chunk_filter)\n",
    "    \n",
    "# concat the list into dataframe \n",
    "df_concat = pd.concat(chunk_list)"
   ]
  },
  {
   "cell_type": "code",
   "execution_count": 29,
   "id": "8aec6ca7",
   "metadata": {},
   "outputs": [
    {
     "name": "stderr",
     "output_type": "stream",
     "text": [
      "/opt/app/.venv/lib/python3.7/site-packages/ipykernel_launcher.py:1: FutureWarning: The default value of regex will change from True to False in a future version. In addition, single character regular expressions will *not* be treated as literal strings when regex=True.\n",
      "  \"\"\"Entry point for launching an IPython kernel.\n",
      "/opt/app/.venv/lib/python3.7/site-packages/ipykernel_launcher.py:2: FutureWarning: The default value of regex will change from True to False in a future version. In addition, single character regular expressions will *not* be treated as literal strings when regex=True.\n",
      "  \n",
      "/opt/app/.venv/lib/python3.7/site-packages/ipykernel_launcher.py:3: FutureWarning: The default value of regex will change from True to False in a future version. In addition, single character regular expressions will *not* be treated as literal strings when regex=True.\n",
      "  This is separate from the ipykernel package so we can avoid doing imports until\n"
     ]
    },
    {
     "data": {
      "text/html": [
       "<div>\n",
       "<style scoped>\n",
       "    .dataframe tbody tr th:only-of-type {\n",
       "        vertical-align: middle;\n",
       "    }\n",
       "\n",
       "    .dataframe tbody tr th {\n",
       "        vertical-align: top;\n",
       "    }\n",
       "\n",
       "    .dataframe thead th {\n",
       "        text-align: right;\n",
       "    }\n",
       "</style>\n",
       "<table border=\"1\" class=\"dataframe\">\n",
       "  <thead>\n",
       "    <tr style=\"text-align: right;\">\n",
       "      <th></th>\n",
       "      <th>TRANDATE,CTRANTP,BORBARCODE,LOC,TITLENO,COPYNO</th>\n",
       "    </tr>\n",
       "  </thead>\n",
       "  <tbody>\n",
       "    <tr>\n",
       "      <th>0</th>\n",
       "      <td>12/08/99,RET,XXX_DELETEDUSER_9713183,BMC,20667...</td>\n",
       "    </tr>\n",
       "    <tr>\n",
       "      <th>1</th>\n",
       "      <td>12/08/99,RET,XXX_DELETEDUSER_9713183,BMC,13970...</td>\n",
       "    </tr>\n",
       "    <tr>\n",
       "      <th>2</th>\n",
       "      <td>12/08/99,RET,XXX_DELETEDUSER_9713183,BMC,14108...</td>\n",
       "    </tr>\n",
       "    <tr>\n",
       "      <th>3</th>\n",
       "      <td>12/08/99,REN,XXX_DELETEDUSER_9713183,BMC,23702...</td>\n",
       "    </tr>\n",
       "    <tr>\n",
       "      <th>4</th>\n",
       "      <td>12/08/99,ISS,XXX_DELETEDUSER_9713183,BMC,14830...</td>\n",
       "    </tr>\n",
       "  </tbody>\n",
       "</table>\n",
       "</div>"
      ],
      "text/plain": [
       "      TRANDATE,CTRANTP,BORBARCODE,LOC,TITLENO,COPYNO\n",
       "0  12/08/99,RET,XXX_DELETEDUSER_9713183,BMC,20667...\n",
       "1  12/08/99,RET,XXX_DELETEDUSER_9713183,BMC,13970...\n",
       "2  12/08/99,RET,XXX_DELETEDUSER_9713183,BMC,14108...\n",
       "3  12/08/99,REN,XXX_DELETEDUSER_9713183,BMC,23702...\n",
       "4  12/08/99,ISS,XXX_DELETEDUSER_9713183,BMC,14830..."
      ]
     },
     "execution_count": 29,
     "metadata": {},
     "output_type": "execute_result"
    }
   ],
   "source": [
    "df_concat.columns = df_concat.columns.str.replace(\"(\",'');\n",
    "df_concat.columns = df_concat.columns.str.replace(\")\",'');\n",
    "df_concat.columns = df_concat.columns.str.replace(\"|\",'');\n",
    "df_concat.columns = df_concat.columns.str.replace(\"'INSERTINTOCOPYTRANSTRANDATE,CTRANTP,BORBARCODE,TITLENO,COPYNOVALUES'TRANDATE','CTRANTP','BORBARCODE','LOC','TITLENO','COPYNO';'\",'TRANDATE,CTRANTP,BORBARCODE,LOC,TITLENO,COPYNO');\n",
    "df_concat.head()"
   ]
  }
 ],
 "metadata": {
  "kernelspec": {
   "display_name": "Python 3 (ipykernel)",
   "language": "python",
   "name": "python3"
  },
  "language_info": {
   "codemirror_mode": {
    "name": "ipython",
    "version": 3
   },
   "file_extension": ".py",
   "mimetype": "text/x-python",
   "name": "python",
   "nbconvert_exporter": "python",
   "pygments_lexer": "ipython3",
   "version": "3.7.11"
  }
 },
 "nbformat": 4,
 "nbformat_minor": 5
}
