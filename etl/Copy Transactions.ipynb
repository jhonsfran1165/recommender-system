{
 "cells": [
  {
   "cell_type": "code",
   "execution_count": 1,
   "id": "56bf84b2",
   "metadata": {},
   "outputs": [],
   "source": [
    "import pandas as pd\n",
    "\n",
    "df = pd.read_csv('../data/copytrans.txt',\n",
    "    encoding = \"ISO-8859-1\",\n",
    "    chunksize=20000,\n",
    "    engine='python',\n",
    "    header=0,\n",
    "    doublequote=True,\n",
    "    index_col=False,\n",
    "    names=[\n",
    "        \"TRANDATE,CTRANTP,BORBARCODE,LOC,TITLENO,COPYNO\"\n",
    "    ]\n",
    ")\n",
    "\n",
    "pd.set_option('display.max_columns', None)\n",
    "pd.set_option('display.max_rows', None)\n",
    "\n",
    "# jhoan = []\n",
    "# \n",
    "# for chunk in df:      \n",
    "#     # for now just add the chunk part\n",
    "#     jhoan.append(chunk)\n",
    "#     \n",
    "# # concat the list into dataframe \n",
    "# df_jhoan = pd.concat(jhoan)\n",
    "# df_jhoan.count()\n",
    "# \n",
    "# data    14382068\n",
    "# dtype: int64"
   ]
  },
  {
   "cell_type": "code",
   "execution_count": 2,
   "id": "64ec33f3",
   "metadata": {},
   "outputs": [],
   "source": [
    "chunk_list = []  # append each chunk df here \n",
    "\n",
    "def deleted_users(chuck):\n",
    "    for index, row in chuck.iterrows():\n",
    "        validation = row.str.contains(\"XXX_DELETEDUSER_\", case=False)\n",
    "        \n",
    "        if validation.bool() == True:\n",
    "            return 1\n",
    "        else:\n",
    "            return 0\n",
    "        \n",
    "    \n",
    "def chunk_preprocessing(chuck):    \n",
    "    replace_values = {\n",
    "        'INSERT INTO copytrans \\(trandate, ctrantp,borbarcode, titleno,copyno\\) VALUES\\( ' : '',\n",
    "        '\\);' : '',\n",
    "        'XXX_DELETEDUSER_' : ''\n",
    "    }\n",
    "        \n",
    "    chuck['deleted'] = deleted_users(chuck)  \n",
    "    \n",
    "    chuck.replace(\n",
    "        to_replace={\n",
    "            \"TRANDATE,CTRANTP,BORBARCODE,LOC,TITLENO,COPYNO\": replace_values\n",
    "        },\n",
    "        inplace=True,\n",
    "        regex=True\n",
    "    )\n",
    "    \n",
    "    return chuck\n",
    "\n",
    "# Each chunk is in df format\n",
    "for chunk in df:  \n",
    "    # perform data filtering \n",
    "    chunk_filter = chunk_preprocessing(chunk)\n",
    "    \n",
    "    # for now just add the chunk part\n",
    "    chunk_list.append(chunk_filter)\n",
    "    \n",
    "# concat the list into dataframe \n",
    "df_concat = pd.concat(chunk_list)"
   ]
  },
  {
   "cell_type": "code",
   "execution_count": 3,
   "id": "71c1ab01",
   "metadata": {},
   "outputs": [
    {
     "data": {
      "text/plain": [
       "TRANDATE,CTRANTP,BORBARCODE,LOC,TITLENO,COPYNO    14382067\n",
       "deleted                                           14382067\n",
       "dtype: int64"
      ]
     },
     "execution_count": 3,
     "metadata": {},
     "output_type": "execute_result"
    }
   ],
   "source": [
    "# df_concat.to_csv('copytrans_version1.csv', index=True, sep='*')\n",
    "df_concat.count()"
   ]
  },
  {
   "cell_type": "code",
   "execution_count": 4,
   "id": "8aec6ca7",
   "metadata": {},
   "outputs": [
    {
     "data": {
      "text/html": [
       "<div>\n",
       "<style scoped>\n",
       "    .dataframe tbody tr th:only-of-type {\n",
       "        vertical-align: middle;\n",
       "    }\n",
       "\n",
       "    .dataframe tbody tr th {\n",
       "        vertical-align: top;\n",
       "    }\n",
       "\n",
       "    .dataframe thead th {\n",
       "        text-align: right;\n",
       "    }\n",
       "</style>\n",
       "<table border=\"1\" class=\"dataframe\">\n",
       "  <thead>\n",
       "    <tr style=\"text-align: right;\">\n",
       "      <th></th>\n",
       "      <th>TRANDATE,CTRANTP,BORBARCODE,LOC,TITLENO,COPYNO</th>\n",
       "      <th>deleted</th>\n",
       "    </tr>\n",
       "  </thead>\n",
       "  <tbody>\n",
       "    <tr>\n",
       "      <th>0</th>\n",
       "      <td>12/08/99,RET,9713183,BMC,20667,32376</td>\n",
       "      <td>1</td>\n",
       "    </tr>\n",
       "    <tr>\n",
       "      <th>1</th>\n",
       "      <td>12/08/99,RET,9713183,BMC,139703,185804</td>\n",
       "      <td>1</td>\n",
       "    </tr>\n",
       "    <tr>\n",
       "      <th>2</th>\n",
       "      <td>12/08/99,RET,9713183,BMC,141083,187596</td>\n",
       "      <td>1</td>\n",
       "    </tr>\n",
       "    <tr>\n",
       "      <th>3</th>\n",
       "      <td>12/08/99,REN,9713183,BMC,23702,36458</td>\n",
       "      <td>1</td>\n",
       "    </tr>\n",
       "    <tr>\n",
       "      <th>4</th>\n",
       "      <td>12/08/99,ISS,9713183,BMC,148308,196684</td>\n",
       "      <td>1</td>\n",
       "    </tr>\n",
       "  </tbody>\n",
       "</table>\n",
       "</div>"
      ],
      "text/plain": [
       "  TRANDATE,CTRANTP,BORBARCODE,LOC,TITLENO,COPYNO  deleted\n",
       "0           12/08/99,RET,9713183,BMC,20667,32376        1\n",
       "1         12/08/99,RET,9713183,BMC,139703,185804        1\n",
       "2         12/08/99,RET,9713183,BMC,141083,187596        1\n",
       "3           12/08/99,REN,9713183,BMC,23702,36458        1\n",
       "4         12/08/99,ISS,9713183,BMC,148308,196684        1"
      ]
     },
     "execution_count": 4,
     "metadata": {},
     "output_type": "execute_result"
    }
   ],
   "source": [
    "df_copy = df_concat\n",
    "df_copy.head()"
   ]
  },
  {
   "cell_type": "code",
   "execution_count": 5,
   "id": "c9e3dec1",
   "metadata": {},
   "outputs": [
    {
     "data": {
      "text/html": [
       "<div>\n",
       "<style scoped>\n",
       "    .dataframe tbody tr th:only-of-type {\n",
       "        vertical-align: middle;\n",
       "    }\n",
       "\n",
       "    .dataframe tbody tr th {\n",
       "        vertical-align: top;\n",
       "    }\n",
       "\n",
       "    .dataframe thead th {\n",
       "        text-align: right;\n",
       "    }\n",
       "</style>\n",
       "<table border=\"1\" class=\"dataframe\">\n",
       "  <thead>\n",
       "    <tr style=\"text-align: right;\">\n",
       "      <th></th>\n",
       "      <th>TRANDATE,CTRANTP,BORBARCODE,LOC,TITLENO,COPYNO</th>\n",
       "      <th>deleted</th>\n",
       "    </tr>\n",
       "  </thead>\n",
       "  <tbody>\n",
       "    <tr>\n",
       "      <th>0</th>\n",
       "      <td>12/08/99,RET,9713183,BMC,20667,32376</td>\n",
       "      <td>1</td>\n",
       "    </tr>\n",
       "    <tr>\n",
       "      <th>1</th>\n",
       "      <td>12/08/99,RET,9713183,BMC,139703,185804</td>\n",
       "      <td>1</td>\n",
       "    </tr>\n",
       "    <tr>\n",
       "      <th>2</th>\n",
       "      <td>12/08/99,RET,9713183,BMC,141083,187596</td>\n",
       "      <td>1</td>\n",
       "    </tr>\n",
       "    <tr>\n",
       "      <th>3</th>\n",
       "      <td>12/08/99,REN,9713183,BMC,23702,36458</td>\n",
       "      <td>1</td>\n",
       "    </tr>\n",
       "    <tr>\n",
       "      <th>4</th>\n",
       "      <td>12/08/99,ISS,9713183,BMC,148308,196684</td>\n",
       "      <td>1</td>\n",
       "    </tr>\n",
       "  </tbody>\n",
       "</table>\n",
       "</div>"
      ],
      "text/plain": [
       "  TRANDATE,CTRANTP,BORBARCODE,LOC,TITLENO,COPYNO  deleted\n",
       "0           12/08/99,RET,9713183,BMC,20667,32376        1\n",
       "1         12/08/99,RET,9713183,BMC,139703,185804        1\n",
       "2         12/08/99,RET,9713183,BMC,141083,187596        1\n",
       "3           12/08/99,REN,9713183,BMC,23702,36458        1\n",
       "4         12/08/99,ISS,9713183,BMC,148308,196684        1"
      ]
     },
     "execution_count": 5,
     "metadata": {},
     "output_type": "execute_result"
    }
   ],
   "source": [
    "df_copy.columns.str.split(pat=\",\", expand=True)\n",
    "df_copy.head()"
   ]
  },
  {
   "cell_type": "code",
   "execution_count": 6,
   "id": "1b3859c1",
   "metadata": {},
   "outputs": [],
   "source": [
    "new_df = df_copy['TRANDATE,CTRANTP,BORBARCODE,LOC,TITLENO,COPYNO'].str.split(pat=\",\", expand=True)"
   ]
  },
  {
   "cell_type": "code",
   "execution_count": 7,
   "id": "979c2eda",
   "metadata": {},
   "outputs": [],
   "source": [
    "new_df['DELETED'] = df_copy['deleted']"
   ]
  },
  {
   "cell_type": "code",
   "execution_count": 8,
   "id": "94c1f8ab",
   "metadata": {},
   "outputs": [],
   "source": [
    "new_df = new_df.rename(\n",
    "    columns={\n",
    "        0: 'TRANDATE',\n",
    "        1: 'CTRANTP',\n",
    "        2: 'BORCODE',\n",
    "        3: 'LOCATION',\n",
    "        4: 'TITLENO',\n",
    "        5: 'COPYNO',\n",
    "    }\n",
    ")"
   ]
  },
  {
   "cell_type": "code",
   "execution_count": 9,
   "id": "e6c4c4b5",
   "metadata": {},
   "outputs": [
    {
     "data": {
      "text/html": [
       "<div>\n",
       "<style scoped>\n",
       "    .dataframe tbody tr th:only-of-type {\n",
       "        vertical-align: middle;\n",
       "    }\n",
       "\n",
       "    .dataframe tbody tr th {\n",
       "        vertical-align: top;\n",
       "    }\n",
       "\n",
       "    .dataframe thead th {\n",
       "        text-align: right;\n",
       "    }\n",
       "</style>\n",
       "<table border=\"1\" class=\"dataframe\">\n",
       "  <thead>\n",
       "    <tr style=\"text-align: right;\">\n",
       "      <th></th>\n",
       "      <th>TRANDATE</th>\n",
       "      <th>CTRANTP</th>\n",
       "      <th>BORCODE</th>\n",
       "      <th>LOCATION</th>\n",
       "      <th>TITLENO</th>\n",
       "      <th>COPYNO</th>\n",
       "      <th>DELETED</th>\n",
       "    </tr>\n",
       "  </thead>\n",
       "  <tbody>\n",
       "    <tr>\n",
       "      <th>0</th>\n",
       "      <td>12/08/99</td>\n",
       "      <td>RET</td>\n",
       "      <td>9713183</td>\n",
       "      <td>BMC</td>\n",
       "      <td>20667</td>\n",
       "      <td>32376</td>\n",
       "      <td>1</td>\n",
       "    </tr>\n",
       "    <tr>\n",
       "      <th>1</th>\n",
       "      <td>12/08/99</td>\n",
       "      <td>RET</td>\n",
       "      <td>9713183</td>\n",
       "      <td>BMC</td>\n",
       "      <td>139703</td>\n",
       "      <td>185804</td>\n",
       "      <td>1</td>\n",
       "    </tr>\n",
       "    <tr>\n",
       "      <th>2</th>\n",
       "      <td>12/08/99</td>\n",
       "      <td>RET</td>\n",
       "      <td>9713183</td>\n",
       "      <td>BMC</td>\n",
       "      <td>141083</td>\n",
       "      <td>187596</td>\n",
       "      <td>1</td>\n",
       "    </tr>\n",
       "    <tr>\n",
       "      <th>3</th>\n",
       "      <td>12/08/99</td>\n",
       "      <td>REN</td>\n",
       "      <td>9713183</td>\n",
       "      <td>BMC</td>\n",
       "      <td>23702</td>\n",
       "      <td>36458</td>\n",
       "      <td>1</td>\n",
       "    </tr>\n",
       "    <tr>\n",
       "      <th>4</th>\n",
       "      <td>12/08/99</td>\n",
       "      <td>ISS</td>\n",
       "      <td>9713183</td>\n",
       "      <td>BMC</td>\n",
       "      <td>148308</td>\n",
       "      <td>196684</td>\n",
       "      <td>1</td>\n",
       "    </tr>\n",
       "  </tbody>\n",
       "</table>\n",
       "</div>"
      ],
      "text/plain": [
       "   TRANDATE CTRANTP  BORCODE LOCATION TITLENO  COPYNO  DELETED\n",
       "0  12/08/99     RET  9713183      BMC   20667   32376        1\n",
       "1  12/08/99     RET  9713183      BMC  139703  185804        1\n",
       "2  12/08/99     RET  9713183      BMC  141083  187596        1\n",
       "3  12/08/99     REN  9713183      BMC   23702   36458        1\n",
       "4  12/08/99     ISS  9713183      BMC  148308  196684        1"
      ]
     },
     "execution_count": 9,
     "metadata": {},
     "output_type": "execute_result"
    }
   ],
   "source": [
    "new_df.head()"
   ]
  },
  {
   "cell_type": "code",
   "execution_count": 10,
   "id": "3d31e9d7",
   "metadata": {},
   "outputs": [],
   "source": [
    "new_df.to_csv('copytrans_modified.csv', index=False, sep='*')"
   ]
  }
 ],
 "metadata": {
  "kernelspec": {
   "display_name": "Python 3 (ipykernel)",
   "language": "python",
   "name": "python3"
  },
  "language_info": {
   "codemirror_mode": {
    "name": "ipython",
    "version": 3
   },
   "file_extension": ".py",
   "mimetype": "text/x-python",
   "name": "python",
   "nbconvert_exporter": "python",
   "pygments_lexer": "ipython3",
   "version": "3.7.13"
  }
 },
 "nbformat": 4,
 "nbformat_minor": 5
}
